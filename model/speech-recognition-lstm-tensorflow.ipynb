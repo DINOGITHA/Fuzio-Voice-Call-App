{
 "cells": [
  {
   "cell_type": "code",
   "execution_count": 1,
   "id": "222e0c29",
   "metadata": {
    "execution": {
     "iopub.execute_input": "2024-05-20T08:23:03.167325Z",
     "iopub.status.busy": "2024-05-20T08:23:03.166901Z",
     "iopub.status.idle": "2024-05-20T08:23:03.180857Z",
     "shell.execute_reply": "2024-05-20T08:23:03.179989Z"
    },
    "papermill": {
     "duration": 0.045671,
     "end_time": "2024-05-20T08:23:03.182921",
     "exception": false,
     "start_time": "2024-05-20T08:23:03.137250",
     "status": "completed"
    },
    "tags": []
   },
   "outputs": [],
   "source": [
    "import warnings\n",
    "warnings.filterwarnings(\"ignore\")"
   ]
  },
  {
   "cell_type": "code",
   "execution_count": 2,
   "id": "047b22a9",
   "metadata": {
    "_kg_hide-output": true,
    "execution": {
     "iopub.execute_input": "2024-05-20T08:23:03.242671Z",
     "iopub.status.busy": "2024-05-20T08:23:03.242378Z",
     "iopub.status.idle": "2024-05-20T08:23:15.399713Z",
     "shell.execute_reply": "2024-05-20T08:23:15.398852Z"
    },
    "papermill": {
     "duration": 12.191756,
     "end_time": "2024-05-20T08:23:15.402018",
     "exception": false,
     "start_time": "2024-05-20T08:23:03.210262",
     "status": "completed"
    },
    "tags": []
   },
   "outputs": [],
   "source": [
    "import os\n",
    "import numpy as np\n",
    "import pandas as pd\n",
    "import matplotlib.pyplot as plt\n",
    "import seaborn as sns\n",
    "import librosa\n",
    "import librosa.display\n",
    "\n",
    "# to play the audio files\n",
    "from IPython.display import Audio\n",
    "\n",
    "\n",
    "from keras.callbacks import ModelCheckpoint\n",
    "from keras.callbacks import LearningRateScheduler\n",
    "import tensorflow as tf\n",
    "\n",
    "from keras.models import Sequential\n",
    "from keras.layers import Dense, LSTM, Dropout\n",
    "from collections.abc import Iterable\n",
    "\n",
    "from sklearn.preprocessing import OneHotEncoder\n",
    "from tensorflow.keras.callbacks import ReduceLROnPlateau\n",
    "from tensorflow.keras.models import Sequential\n",
    "from tensorflow.keras.layers import Flatten, BatchNormalization\n",
    "from keras import layers, callbacks"
   ]
  },
  {
   "cell_type": "code",
   "execution_count": 3,
   "id": "881a4985",
   "metadata": {
    "execution": {
     "iopub.execute_input": "2024-05-20T08:23:15.631429Z",
     "iopub.status.busy": "2024-05-20T08:23:15.631117Z",
     "iopub.status.idle": "2024-05-20T08:23:15.635321Z",
     "shell.execute_reply": "2024-05-20T08:23:15.634479Z"
    },
    "papermill": {
     "duration": 0.034593,
     "end_time": "2024-05-20T08:23:15.637408",
     "exception": false,
     "start_time": "2024-05-20T08:23:15.602815",
     "status": "completed"
    },
    "tags": []
   },
   "outputs": [],
   "source": [
    "Crema_path = \"files/Crema/\" \n",
    "Ravdess_path =\"files/audio_speech_actors_01-24/\"\n",
    "Savee_path = \"files/Savee/\"\n",
    "Tess_path = \"files/Tess/\""
   ]
  },
  {
   "cell_type": "code",
   "execution_count": 4,
   "id": "1cf1fc91",
   "metadata": {
    "execution": {
     "iopub.execute_input": "2024-05-20T08:23:15.692965Z",
     "iopub.status.busy": "2024-05-20T08:23:15.692712Z",
     "iopub.status.idle": "2024-05-20T08:23:16.091420Z",
     "shell.execute_reply": "2024-05-20T08:23:16.090630Z"
    },
    "papermill": {
     "duration": 0.429022,
     "end_time": "2024-05-20T08:23:16.093506",
     "exception": false,
     "start_time": "2024-05-20T08:23:15.664484",
     "status": "completed"
    },
    "tags": []
   },
   "outputs": [],
   "source": [
    "Crema_dir_list = os.listdir(Crema_path)\n",
    "Ravdess_dir_list = os.listdir(Ravdess_path)\n",
    "Savee_dir_list = os.listdir(Savee_path)\n",
    "Tess_dir_list = os.listdir(Tess_path)"
   ]
  },
  {
   "cell_type": "markdown",
   "id": "1d52b2d8",
   "metadata": {
    "papermill": {
     "duration": 0.026757,
     "end_time": "2024-05-20T08:23:16.309461",
     "exception": false,
     "start_time": "2024-05-20T08:23:16.282704",
     "status": "completed"
    },
    "tags": []
   },
   "source": [
    "# Crema"
   ]
  },
  {
   "cell_type": "code",
   "execution_count": 5,
   "id": "7d5693a3",
   "metadata": {
    "execution": {
     "iopub.execute_input": "2024-05-20T08:23:16.365152Z",
     "iopub.status.busy": "2024-05-20T08:23:16.364828Z",
     "iopub.status.idle": "2024-05-20T08:23:16.371685Z",
     "shell.execute_reply": "2024-05-20T08:23:16.370832Z"
    },
    "papermill": {
     "duration": 0.037298,
     "end_time": "2024-05-20T08:23:16.373666",
     "exception": false,
     "start_time": "2024-05-20T08:23:16.336368",
     "status": "completed"
    },
    "tags": []
   },
   "outputs": [
    {
     "data": {
      "text/plain": [
       "['1001_DFA_ANG_XX.wav',\n",
       " '1001_DFA_DIS_XX.wav',\n",
       " '1001_DFA_FEA_XX.wav',\n",
       " '1001_DFA_HAP_XX.wav',\n",
       " '1001_DFA_NEU_XX.wav',\n",
       " '1001_DFA_SAD_XX.wav',\n",
       " '1001_IEO_ANG_HI.wav',\n",
       " '1001_IEO_ANG_LO.wav',\n",
       " '1001_IEO_ANG_MD.wav',\n",
       " '1001_IEO_DIS_HI.wav',\n",
       " '1001_IEO_DIS_LO.wav',\n",
       " '1001_IEO_DIS_MD.wav',\n",
       " '1001_IEO_FEA_HI.wav',\n",
       " '1001_IEO_FEA_LO.wav',\n",
       " '1001_IEO_FEA_MD.wav']"
      ]
     },
     "execution_count": 5,
     "metadata": {},
     "output_type": "execute_result"
    }
   ],
   "source": [
    "Ex_Crema_dir_list = Crema_dir_list[:15]\n",
    "Ex_Crema_dir_list"
   ]
  },
  {
   "cell_type": "code",
   "execution_count": 6,
   "id": "6997f4ce",
   "metadata": {
    "execution": {
     "iopub.execute_input": "2024-05-20T08:23:16.430880Z",
     "iopub.status.busy": "2024-05-20T08:23:16.430628Z",
     "iopub.status.idle": "2024-05-20T08:23:16.542074Z",
     "shell.execute_reply": "2024-05-20T08:23:16.541350Z"
    },
    "papermill": {
     "duration": 0.143031,
     "end_time": "2024-05-20T08:23:16.544310",
     "exception": false,
     "start_time": "2024-05-20T08:23:16.401279",
     "status": "completed"
    },
    "tags": []
   },
   "outputs": [
    {
     "name": "stdout",
     "output_type": "stream",
     "text": [
      "(4900, 2)\n"
     ]
    },
    {
     "data": {
      "text/html": [
       "<style type=\"text/css\">\n",
       "#T_a5dc6_row0_col0, #T_a5dc6_row0_col1, #T_a5dc6_row1_col0, #T_a5dc6_row1_col1, #T_a5dc6_row2_col0, #T_a5dc6_row2_col1, #T_a5dc6_row3_col0, #T_a5dc6_row3_col1, #T_a5dc6_row4_col0, #T_a5dc6_row4_col1 {\n",
       "  background-color: #9490ff;\n",
       "  color: black;\n",
       "  border-color: black;\n",
       "}\n",
       "</style>\n",
       "<table id=\"T_a5dc6_\">\n",
       "  <thead>\n",
       "    <tr>\n",
       "      <th class=\"blank level0\" >&nbsp;</th>\n",
       "      <th class=\"col_heading level0 col0\" >Emotions</th>\n",
       "      <th class=\"col_heading level0 col1\" >Path</th>\n",
       "    </tr>\n",
       "  </thead>\n",
       "  <tbody>\n",
       "    <tr>\n",
       "      <th id=\"T_a5dc6_level0_row0\" class=\"row_heading level0 row0\" >0</th>\n",
       "      <td id=\"T_a5dc6_row0_col0\" class=\"data row0 col0\" >angry</td>\n",
       "      <td id=\"T_a5dc6_row0_col1\" class=\"data row0 col1\" >files/Crema/1001_DFA_ANG_XX.wav</td>\n",
       "    </tr>\n",
       "    <tr>\n",
       "      <th id=\"T_a5dc6_level0_row1\" class=\"row_heading level0 row1\" >1</th>\n",
       "      <td id=\"T_a5dc6_row1_col0\" class=\"data row1 col0\" >happy</td>\n",
       "      <td id=\"T_a5dc6_row1_col1\" class=\"data row1 col1\" >files/Crema/1001_DFA_HAP_XX.wav</td>\n",
       "    </tr>\n",
       "    <tr>\n",
       "      <th id=\"T_a5dc6_level0_row2\" class=\"row_heading level0 row2\" >2</th>\n",
       "      <td id=\"T_a5dc6_row2_col0\" class=\"data row2 col0\" >neutral</td>\n",
       "      <td id=\"T_a5dc6_row2_col1\" class=\"data row2 col1\" >files/Crema/1001_DFA_NEU_XX.wav</td>\n",
       "    </tr>\n",
       "    <tr>\n",
       "      <th id=\"T_a5dc6_level0_row3\" class=\"row_heading level0 row3\" >3</th>\n",
       "      <td id=\"T_a5dc6_row3_col0\" class=\"data row3 col0\" >sad</td>\n",
       "      <td id=\"T_a5dc6_row3_col1\" class=\"data row3 col1\" >files/Crema/1001_DFA_SAD_XX.wav</td>\n",
       "    </tr>\n",
       "    <tr>\n",
       "      <th id=\"T_a5dc6_level0_row4\" class=\"row_heading level0 row4\" >4</th>\n",
       "      <td id=\"T_a5dc6_row4_col0\" class=\"data row4 col0\" >angry</td>\n",
       "      <td id=\"T_a5dc6_row4_col1\" class=\"data row4 col1\" >files/Crema/1001_IEO_ANG_HI.wav</td>\n",
       "    </tr>\n",
       "  </tbody>\n",
       "</table>\n"
      ],
      "text/plain": [
       "<pandas.io.formats.style.Styler at 0x180eaf6dec8>"
      ]
     },
     "execution_count": 6,
     "metadata": {},
     "output_type": "execute_result"
    }
   ],
   "source": [
    "emotions_crema = []\n",
    "paths_crema = []\n",
    "\n",
    "for it in Crema_dir_list:\n",
    "    # storing file paths\n",
    "    paths_crema.append(Crema_path + it)\n",
    "    # storing file emotions\n",
    "    part = it.split('_')\n",
    "    if part[2] == 'SAD':\n",
    "        emotions_crema.append('sad')\n",
    "    elif part[2] == 'ANG':\n",
    "        emotions_crema.append('angry')\n",
    "    elif part[2] == 'HAP':\n",
    "        emotions_crema.append('happy')\n",
    "    elif part[2] == 'NEU':\n",
    "        emotions_crema.append('neutral')\n",
    "    else:\n",
    "        emotions_crema.append('Unknown')\n",
    "        \n",
    "# dataframe for emotion of files\n",
    "emotions_crema_df = pd.DataFrame(emotions_crema, columns=['Emotions'])\n",
    "\n",
    "# dataframe for path of files.\n",
    "path_crema_df = pd.DataFrame(paths_crema, columns=['Path'])\n",
    "Crema_df = pd.concat([emotions_crema_df, path_crema_df], axis=1)\n",
    "# Remove rows where the 'Emotions' column is 'Unknown'\n",
    "Crema_df= Crema_df[Crema_df['Emotions'] != 'Unknown']\n",
    "\n",
    "# Reset the index if needed\n",
    "Crema_df.reset_index(drop=True, inplace=True)\n",
    "print(Crema_df.shape)\n",
    "Crema_df.head().style.set_properties(**{'background-color': '#9490ff',\n",
    "                           'color': 'black',\n",
    "                           'border-color': 'black'})\n"
   ]
  },
  {
   "cell_type": "code",
   "execution_count": 7,
   "id": "c3be4b56",
   "metadata": {
    "execution": {
     "iopub.execute_input": "2024-05-20T08:23:16.602330Z",
     "iopub.status.busy": "2024-05-20T08:23:16.601906Z",
     "iopub.status.idle": "2024-05-20T08:23:16.611000Z",
     "shell.execute_reply": "2024-05-20T08:23:16.610183Z"
    },
    "papermill": {
     "duration": 0.040383,
     "end_time": "2024-05-20T08:23:16.612811",
     "exception": false,
     "start_time": "2024-05-20T08:23:16.572428",
     "status": "completed"
    },
    "tags": []
   },
   "outputs": [
    {
     "data": {
      "text/plain": [
       "[['angry', 'happy', 'neutral', 'sad'], ['angry', 'happy', 'neutral', 'sad']]"
      ]
     },
     "execution_count": 7,
     "metadata": {},
     "output_type": "execute_result"
    }
   ],
   "source": [
    "[Crema_df[\"Emotions\"].unique().tolist() for i in Crema_df.columns]"
   ]
  },
  {
   "cell_type": "code",
   "execution_count": 8,
   "id": "0e784778",
   "metadata": {
    "execution": {
     "iopub.execute_input": "2024-05-20T08:23:16.669679Z",
     "iopub.status.busy": "2024-05-20T08:23:16.669411Z",
     "iopub.status.idle": "2024-05-20T08:23:16.673660Z",
     "shell.execute_reply": "2024-05-20T08:23:16.672870Z"
    },
    "papermill": {
     "duration": 0.034621,
     "end_time": "2024-05-20T08:23:16.675610",
     "exception": false,
     "start_time": "2024-05-20T08:23:16.640989",
     "status": "completed"
    },
    "tags": []
   },
   "outputs": [],
   "source": [
    "font1 = {'family':'Times New Roman','color':'blue','size':30}\n",
    "font2 = {'family':'Times New Roman','color':'blue','size':20}\n",
    "font3 = {'family':'Times New Roman','color':'blue','size':10}"
   ]
  },
  {
   "cell_type": "markdown",
   "id": "8f63597a",
   "metadata": {
    "papermill": {
     "duration": 0.029693,
     "end_time": "2024-05-20T08:23:17.748006",
     "exception": false,
     "start_time": "2024-05-20T08:23:17.718313",
     "status": "completed"
    },
    "tags": []
   },
   "source": [
    "# Ravdess"
   ]
  },
  {
   "cell_type": "code",
   "execution_count": 9,
   "id": "b1779b59",
   "metadata": {
    "execution": {
     "iopub.execute_input": "2024-05-20T08:23:17.835159Z",
     "iopub.status.busy": "2024-05-20T08:23:17.834447Z",
     "iopub.status.idle": "2024-05-20T08:23:17.843823Z",
     "shell.execute_reply": "2024-05-20T08:23:17.842899Z"
    },
    "papermill": {
     "duration": 0.064739,
     "end_time": "2024-05-20T08:23:17.851808",
     "exception": false,
     "start_time": "2024-05-20T08:23:17.787069",
     "status": "completed"
    },
    "tags": []
   },
   "outputs": [
    {
     "data": {
      "text/plain": [
       "['Actor_01',\n",
       " 'Actor_02',\n",
       " 'Actor_03',\n",
       " 'Actor_04',\n",
       " 'Actor_05',\n",
       " 'Actor_06',\n",
       " 'Actor_07',\n",
       " 'Actor_08',\n",
       " 'Actor_09',\n",
       " 'Actor_10',\n",
       " 'Actor_11',\n",
       " 'Actor_12',\n",
       " 'Actor_13',\n",
       " 'Actor_14',\n",
       " 'Actor_15']"
      ]
     },
     "execution_count": 9,
     "metadata": {},
     "output_type": "execute_result"
    }
   ],
   "source": [
    "Ex_Ravdess_dir_list = Ravdess_dir_list[:15]\n",
    "Ex_Ravdess_dir_list"
   ]
  },
  {
   "cell_type": "markdown",
   "id": "0ae723fa",
   "metadata": {
    "papermill": {
     "duration": 0.030049,
     "end_time": "2024-05-20T08:23:17.919085",
     "exception": false,
     "start_time": "2024-05-20T08:23:17.889036",
     "status": "completed"
    },
    "tags": []
   },
   "source": [
    "That's not enough\n"
   ]
  },
  {
   "cell_type": "code",
   "execution_count": 10,
   "id": "6602cb76",
   "metadata": {
    "execution": {
     "iopub.execute_input": "2024-05-20T08:23:17.981522Z",
     "iopub.status.busy": "2024-05-20T08:23:17.981187Z",
     "iopub.status.idle": "2024-05-20T08:23:18.416070Z",
     "shell.execute_reply": "2024-05-20T08:23:18.415159Z"
    },
    "papermill": {
     "duration": 0.468998,
     "end_time": "2024-05-20T08:23:18.418351",
     "exception": false,
     "start_time": "2024-05-20T08:23:17.949353",
     "status": "completed"
    },
    "tags": []
   },
   "outputs": [
    {
     "data": {
      "text/html": [
       "<style type=\"text/css\">\n",
       "#T_20994_row0_col0, #T_20994_row0_col1, #T_20994_row1_col0, #T_20994_row1_col1, #T_20994_row2_col0, #T_20994_row2_col1, #T_20994_row3_col0, #T_20994_row3_col1, #T_20994_row4_col0, #T_20994_row4_col1 {\n",
       "  background-color: #9490ff;\n",
       "  color: black;\n",
       "  border-color: black;\n",
       "}\n",
       "</style>\n",
       "<table id=\"T_20994_\">\n",
       "  <thead>\n",
       "    <tr>\n",
       "      <th class=\"blank level0\" >&nbsp;</th>\n",
       "      <th class=\"col_heading level0 col0\" >Emotions</th>\n",
       "      <th class=\"col_heading level0 col1\" >Path</th>\n",
       "    </tr>\n",
       "  </thead>\n",
       "  <tbody>\n",
       "    <tr>\n",
       "      <th id=\"T_20994_level0_row0\" class=\"row_heading level0 row0\" >0</th>\n",
       "      <td id=\"T_20994_row0_col0\" class=\"data row0 col0\" >neutral</td>\n",
       "      <td id=\"T_20994_row0_col1\" class=\"data row0 col1\" >files/audio_speech_actors_01-24/Actor_01/03-01-01-01-01-01-01.wav</td>\n",
       "    </tr>\n",
       "    <tr>\n",
       "      <th id=\"T_20994_level0_row1\" class=\"row_heading level0 row1\" >1</th>\n",
       "      <td id=\"T_20994_row1_col0\" class=\"data row1 col0\" >neutral</td>\n",
       "      <td id=\"T_20994_row1_col1\" class=\"data row1 col1\" >files/audio_speech_actors_01-24/Actor_01/03-01-01-01-01-02-01.wav</td>\n",
       "    </tr>\n",
       "    <tr>\n",
       "      <th id=\"T_20994_level0_row2\" class=\"row_heading level0 row2\" >2</th>\n",
       "      <td id=\"T_20994_row2_col0\" class=\"data row2 col0\" >neutral</td>\n",
       "      <td id=\"T_20994_row2_col1\" class=\"data row2 col1\" >files/audio_speech_actors_01-24/Actor_01/03-01-01-01-02-01-01.wav</td>\n",
       "    </tr>\n",
       "    <tr>\n",
       "      <th id=\"T_20994_level0_row3\" class=\"row_heading level0 row3\" >3</th>\n",
       "      <td id=\"T_20994_row3_col0\" class=\"data row3 col0\" >neutral</td>\n",
       "      <td id=\"T_20994_row3_col1\" class=\"data row3 col1\" >files/audio_speech_actors_01-24/Actor_01/03-01-01-01-02-02-01.wav</td>\n",
       "    </tr>\n",
       "    <tr>\n",
       "      <th id=\"T_20994_level0_row4\" class=\"row_heading level0 row4\" >4</th>\n",
       "      <td id=\"T_20994_row4_col0\" class=\"data row4 col0\" >happy</td>\n",
       "      <td id=\"T_20994_row4_col1\" class=\"data row4 col1\" >files/audio_speech_actors_01-24/Actor_01/03-01-03-01-01-01-01.wav</td>\n",
       "    </tr>\n",
       "  </tbody>\n",
       "</table>\n"
      ],
      "text/plain": [
       "<pandas.io.formats.style.Styler at 0x180eaed3888>"
      ]
     },
     "execution_count": 10,
     "metadata": {},
     "output_type": "execute_result"
    }
   ],
   "source": [
    "emotions_ravdess = []\n",
    "path_ravdess = []\n",
    "\n",
    "for it in Ravdess_dir_list:\n",
    "    # There are 20 actors  \n",
    "    actor = os.listdir(Ravdess_path + it)\n",
    "    for file in actor:\n",
    "        part = file.split('.')[0]\n",
    "        part = part.split('-')\n",
    "        # third part in each file represents the emotion associated to that file.\n",
    "        emotions_ravdess.append(int(part[2]))\n",
    "        path_ravdess.append(Ravdess_path + it + '/' + file)\n",
    "    \n",
    "    \n",
    "emotion_ravdess_df = pd.DataFrame(emotions_ravdess, columns=['Emotions'])\n",
    "\n",
    "path_ravdess_df = pd.DataFrame(path_ravdess, columns=['Path'])\n",
    "Ravdess_df = pd.concat([emotion_ravdess_df, path_ravdess_df], axis=1)\n",
    "\n",
    "# changing integers to actual emotions.\n",
    "Ravdess_df.Emotions.replace({1:'neutral', 2:'Unknown',\n",
    "                             3:'happy', 4:'sad', 5:'angry',\n",
    "                             6:'Unknown', 7:'Unknown', 8:'Unknown'}, inplace=True)\n",
    "Ravdess_df = Ravdess_df[Ravdess_df['Emotions'] != 'Unknown']\n",
    "\n",
    "# Reset the index if necessary\n",
    "Ravdess_df.reset_index(drop=True, inplace=True)\n",
    "Ravdess_df.head().style.set_properties(**{'background-color': '#9490ff',\n",
    "                           'color': 'black',\n",
    "                           'border-color': 'black'})"
   ]
  },
  {
   "cell_type": "code",
   "execution_count": 11,
   "id": "67c10cec",
   "metadata": {
    "execution": {
     "iopub.execute_input": "2024-05-20T08:23:18.483568Z",
     "iopub.status.busy": "2024-05-20T08:23:18.483230Z",
     "iopub.status.idle": "2024-05-20T08:23:18.490336Z",
     "shell.execute_reply": "2024-05-20T08:23:18.489554Z"
    },
    "papermill": {
     "duration": 0.040741,
     "end_time": "2024-05-20T08:23:18.492402",
     "exception": false,
     "start_time": "2024-05-20T08:23:18.451661",
     "status": "completed"
    },
    "tags": []
   },
   "outputs": [
    {
     "data": {
      "text/plain": [
       "[['neutral', 'happy', 'sad', 'angry'], ['neutral', 'happy', 'sad', 'angry']]"
      ]
     },
     "execution_count": 11,
     "metadata": {},
     "output_type": "execute_result"
    }
   ],
   "source": [
    "[Ravdess_df[\"Emotions\"].unique().tolist() for i in Ravdess_df.columns]"
   ]
  },
  {
   "cell_type": "markdown",
   "id": "2af26808",
   "metadata": {
    "papermill": {
     "duration": 0.032037,
     "end_time": "2024-05-20T08:23:19.479379",
     "exception": false,
     "start_time": "2024-05-20T08:23:19.447342",
     "status": "completed"
    },
    "tags": []
   },
   "source": [
    "# Savee"
   ]
  },
  {
   "cell_type": "code",
   "execution_count": 12,
   "id": "fb6c0e63",
   "metadata": {
    "execution": {
     "iopub.execute_input": "2024-05-20T08:23:19.546703Z",
     "iopub.status.busy": "2024-05-20T08:23:19.546037Z",
     "iopub.status.idle": "2024-05-20T08:23:19.552247Z",
     "shell.execute_reply": "2024-05-20T08:23:19.551402Z"
    },
    "papermill": {
     "duration": 0.041602,
     "end_time": "2024-05-20T08:23:19.554142",
     "exception": false,
     "start_time": "2024-05-20T08:23:19.512540",
     "status": "completed"
    },
    "tags": []
   },
   "outputs": [
    {
     "data": {
      "text/plain": [
       "['DC_a01.wav',\n",
       " 'DC_a02.wav',\n",
       " 'DC_a03.wav',\n",
       " 'DC_a04.wav',\n",
       " 'DC_a05.wav',\n",
       " 'DC_a06.wav',\n",
       " 'DC_a07.wav',\n",
       " 'DC_a08.wav',\n",
       " 'DC_a09.wav',\n",
       " 'DC_a10.wav',\n",
       " 'DC_a11.wav',\n",
       " 'DC_a12.wav',\n",
       " 'DC_a13.wav',\n",
       " 'DC_a14.wav',\n",
       " 'DC_a15.wav']"
      ]
     },
     "execution_count": 12,
     "metadata": {},
     "output_type": "execute_result"
    }
   ],
   "source": [
    "Ex_Savee_dir_list = Savee_dir_list[:15]\n",
    "Ex_Savee_dir_list"
   ]
  },
  {
   "cell_type": "code",
   "execution_count": 13,
   "id": "092f6b2a",
   "metadata": {
    "execution": {
     "iopub.execute_input": "2024-05-20T08:23:19.620822Z",
     "iopub.status.busy": "2024-05-20T08:23:19.620557Z",
     "iopub.status.idle": "2024-05-20T08:23:19.636305Z",
     "shell.execute_reply": "2024-05-20T08:23:19.635442Z"
    },
    "papermill": {
     "duration": 0.05191,
     "end_time": "2024-05-20T08:23:19.638661",
     "exception": false,
     "start_time": "2024-05-20T08:23:19.586751",
     "status": "completed"
    },
    "tags": []
   },
   "outputs": [
    {
     "data": {
      "text/html": [
       "<style type=\"text/css\">\n",
       "#T_7166b_row0_col0, #T_7166b_row0_col1, #T_7166b_row1_col0, #T_7166b_row1_col1, #T_7166b_row2_col0, #T_7166b_row2_col1, #T_7166b_row3_col0, #T_7166b_row3_col1, #T_7166b_row4_col0, #T_7166b_row4_col1 {\n",
       "  background-color: #9490ff;\n",
       "  color: black;\n",
       "  border-color: black;\n",
       "}\n",
       "</style>\n",
       "<table id=\"T_7166b_\">\n",
       "  <thead>\n",
       "    <tr>\n",
       "      <th class=\"blank level0\" >&nbsp;</th>\n",
       "      <th class=\"col_heading level0 col0\" >Emotions</th>\n",
       "      <th class=\"col_heading level0 col1\" >Path</th>\n",
       "    </tr>\n",
       "  </thead>\n",
       "  <tbody>\n",
       "    <tr>\n",
       "      <th id=\"T_7166b_level0_row0\" class=\"row_heading level0 row0\" >0</th>\n",
       "      <td id=\"T_7166b_row0_col0\" class=\"data row0 col0\" >angry</td>\n",
       "      <td id=\"T_7166b_row0_col1\" class=\"data row0 col1\" >files/Savee/DC_a01.wav</td>\n",
       "    </tr>\n",
       "    <tr>\n",
       "      <th id=\"T_7166b_level0_row1\" class=\"row_heading level0 row1\" >1</th>\n",
       "      <td id=\"T_7166b_row1_col0\" class=\"data row1 col0\" >angry</td>\n",
       "      <td id=\"T_7166b_row1_col1\" class=\"data row1 col1\" >files/Savee/DC_a02.wav</td>\n",
       "    </tr>\n",
       "    <tr>\n",
       "      <th id=\"T_7166b_level0_row2\" class=\"row_heading level0 row2\" >2</th>\n",
       "      <td id=\"T_7166b_row2_col0\" class=\"data row2 col0\" >angry</td>\n",
       "      <td id=\"T_7166b_row2_col1\" class=\"data row2 col1\" >files/Savee/DC_a03.wav</td>\n",
       "    </tr>\n",
       "    <tr>\n",
       "      <th id=\"T_7166b_level0_row3\" class=\"row_heading level0 row3\" >3</th>\n",
       "      <td id=\"T_7166b_row3_col0\" class=\"data row3 col0\" >angry</td>\n",
       "      <td id=\"T_7166b_row3_col1\" class=\"data row3 col1\" >files/Savee/DC_a04.wav</td>\n",
       "    </tr>\n",
       "    <tr>\n",
       "      <th id=\"T_7166b_level0_row4\" class=\"row_heading level0 row4\" >4</th>\n",
       "      <td id=\"T_7166b_row4_col0\" class=\"data row4 col0\" >angry</td>\n",
       "      <td id=\"T_7166b_row4_col1\" class=\"data row4 col1\" >files/Savee/DC_a05.wav</td>\n",
       "    </tr>\n",
       "  </tbody>\n",
       "</table>\n"
      ],
      "text/plain": [
       "<pandas.io.formats.style.Styler at 0x180eaf792c8>"
      ]
     },
     "execution_count": 13,
     "metadata": {},
     "output_type": "execute_result"
    }
   ],
   "source": [
    "emotions_savee = []\n",
    "path_savee = []\n",
    "\n",
    "for it in Savee_dir_list:\n",
    "    path_savee.append(Savee_path + it)\n",
    "    part = it.split('_')[1]\n",
    "    part = part[:-6]\n",
    "    if part == 'a':\n",
    "        emotions_savee.append('angry')\n",
    "    elif part == 'h':\n",
    "        emotions_savee.append('happy')\n",
    "    elif part == 'n':\n",
    "        emotions_savee.append('neutral')\n",
    "    elif part == 'sa':\n",
    "        emotions_savee.append('sad')\n",
    "    else:\n",
    "        emotions_savee.append('Unknown')\n",
    "        \n",
    "# dataframe for emotion of files\n",
    "emotion_savee_df = pd.DataFrame(emotions_savee, columns=['Emotions'])\n",
    "\n",
    "# dataframe for path of files.\n",
    "path_savee_df = pd.DataFrame(path_savee, columns=['Path'])\n",
    "Savee_df = pd.concat([emotion_savee_df, path_savee_df], axis=1)\n",
    "# Remove rows where 'Emotions' column has the value 'Unknown'\n",
    "Savee_df = Savee_df[Savee_df['Emotions'] != 'Unknown'].reset_index(drop=True)\n",
    "\n",
    "Savee_df.head().style.set_properties(**{'background-color': '#9490ff',\n",
    "                           'color': 'black',\n",
    "                           'border-color': 'black'})"
   ]
  },
  {
   "cell_type": "code",
   "execution_count": 14,
   "id": "78cb301d",
   "metadata": {
    "execution": {
     "iopub.execute_input": "2024-05-20T08:23:19.706476Z",
     "iopub.status.busy": "2024-05-20T08:23:19.705993Z",
     "iopub.status.idle": "2024-05-20T08:23:19.712577Z",
     "shell.execute_reply": "2024-05-20T08:23:19.711668Z"
    },
    "papermill": {
     "duration": 0.042593,
     "end_time": "2024-05-20T08:23:19.714623",
     "exception": false,
     "start_time": "2024-05-20T08:23:19.672030",
     "status": "completed"
    },
    "tags": []
   },
   "outputs": [
    {
     "data": {
      "text/plain": [
       "[['angry', 'happy', 'neutral', 'sad'], ['angry', 'happy', 'neutral', 'sad']]"
      ]
     },
     "execution_count": 14,
     "metadata": {},
     "output_type": "execute_result"
    }
   ],
   "source": [
    "[Savee_df[\"Emotions\"].unique().tolist() for i in Savee_df.columns]"
   ]
  },
  {
   "cell_type": "markdown",
   "id": "29b6974d",
   "metadata": {
    "papermill": {
     "duration": 0.03666,
     "end_time": "2024-05-20T08:23:20.675245",
     "exception": false,
     "start_time": "2024-05-20T08:23:20.638585",
     "status": "completed"
    },
    "tags": []
   },
   "source": [
    "# Tess"
   ]
  },
  {
   "cell_type": "code",
   "execution_count": 15,
   "id": "f99bc2b9",
   "metadata": {
    "execution": {
     "iopub.execute_input": "2024-05-20T08:23:20.591172Z",
     "iopub.status.busy": "2024-05-20T08:23:20.590803Z",
     "iopub.status.idle": "2024-05-20T08:23:20.597188Z",
     "shell.execute_reply": "2024-05-20T08:23:20.596273Z"
    },
    "papermill": {
     "duration": 0.047929,
     "end_time": "2024-05-20T08:23:20.599350",
     "exception": false,
     "start_time": "2024-05-20T08:23:20.551421",
     "status": "completed"
    },
    "tags": []
   },
   "outputs": [
    {
     "data": {
      "text/plain": [
       "['OAF_angry',\n",
       " 'OAF_disgust',\n",
       " 'OAF_Fear',\n",
       " 'OAF_happy',\n",
       " 'OAF_neutral',\n",
       " 'OAF_Pleasant_surprise',\n",
       " 'OAF_Sad',\n",
       " 'YAF_angry',\n",
       " 'YAF_disgust',\n",
       " 'YAF_fear',\n",
       " 'YAF_happy',\n",
       " 'YAF_neutral',\n",
       " 'YAF_pleasant_surprised',\n",
       " 'YAF_sad']"
      ]
     },
     "execution_count": 15,
     "metadata": {},
     "output_type": "execute_result"
    }
   ],
   "source": [
    "Ex_Tess_dir_list = Tess_dir_list[:15]\n",
    "Ex_Tess_dir_list"
   ]
  },
  {
   "cell_type": "code",
   "execution_count": 17,
   "id": "15d69004",
   "metadata": {
    "execution": {
     "iopub.execute_input": "2024-05-20T08:23:20.753941Z",
     "iopub.status.busy": "2024-05-20T08:23:20.753616Z",
     "iopub.status.idle": "2024-05-20T08:23:21.382229Z",
     "shell.execute_reply": "2024-05-20T08:23:21.381418Z"
    },
    "papermill": {
     "duration": 0.670897,
     "end_time": "2024-05-20T08:23:21.384272",
     "exception": false,
     "start_time": "2024-05-20T08:23:20.713375",
     "status": "completed"
    },
    "tags": []
   },
   "outputs": [
    {
     "data": {
      "text/html": [
       "<style type=\"text/css\">\n",
       "#T_c5348_row0_col0, #T_c5348_row0_col1, #T_c5348_row1_col0, #T_c5348_row1_col1, #T_c5348_row2_col0, #T_c5348_row2_col1, #T_c5348_row3_col0, #T_c5348_row3_col1, #T_c5348_row4_col0, #T_c5348_row4_col1 {\n",
       "  background-color: #9490ff;\n",
       "  color: black;\n",
       "  border-color: black;\n",
       "}\n",
       "</style>\n",
       "<table id=\"T_c5348_\">\n",
       "  <thead>\n",
       "    <tr>\n",
       "      <th class=\"blank level0\" >&nbsp;</th>\n",
       "      <th class=\"col_heading level0 col0\" >Emotions</th>\n",
       "      <th class=\"col_heading level0 col1\" >Path</th>\n",
       "    </tr>\n",
       "  </thead>\n",
       "  <tbody>\n",
       "    <tr>\n",
       "      <th id=\"T_c5348_level0_row0\" class=\"row_heading level0 row0\" >0</th>\n",
       "      <td id=\"T_c5348_row0_col0\" class=\"data row0 col0\" >angry</td>\n",
       "      <td id=\"T_c5348_row0_col1\" class=\"data row0 col1\" >files/Tess/OAF_angry/OAF_back_angry.wav</td>\n",
       "    </tr>\n",
       "    <tr>\n",
       "      <th id=\"T_c5348_level0_row1\" class=\"row_heading level0 row1\" >1</th>\n",
       "      <td id=\"T_c5348_row1_col0\" class=\"data row1 col0\" >angry</td>\n",
       "      <td id=\"T_c5348_row1_col1\" class=\"data row1 col1\" >files/Tess/OAF_angry/OAF_bar_angry.wav</td>\n",
       "    </tr>\n",
       "    <tr>\n",
       "      <th id=\"T_c5348_level0_row2\" class=\"row_heading level0 row2\" >2</th>\n",
       "      <td id=\"T_c5348_row2_col0\" class=\"data row2 col0\" >angry</td>\n",
       "      <td id=\"T_c5348_row2_col1\" class=\"data row2 col1\" >files/Tess/OAF_angry/OAF_base_angry.wav</td>\n",
       "    </tr>\n",
       "    <tr>\n",
       "      <th id=\"T_c5348_level0_row3\" class=\"row_heading level0 row3\" >3</th>\n",
       "      <td id=\"T_c5348_row3_col0\" class=\"data row3 col0\" >angry</td>\n",
       "      <td id=\"T_c5348_row3_col1\" class=\"data row3 col1\" >files/Tess/OAF_angry/OAF_bath_angry.wav</td>\n",
       "    </tr>\n",
       "    <tr>\n",
       "      <th id=\"T_c5348_level0_row4\" class=\"row_heading level0 row4\" >4</th>\n",
       "      <td id=\"T_c5348_row4_col0\" class=\"data row4 col0\" >angry</td>\n",
       "      <td id=\"T_c5348_row4_col1\" class=\"data row4 col1\" >files/Tess/OAF_angry/OAF_bean_angry.wav</td>\n",
       "    </tr>\n",
       "  </tbody>\n",
       "</table>\n"
      ],
      "text/plain": [
       "<pandas.io.formats.style.Styler at 0x180eb208208>"
      ]
     },
     "execution_count": 17,
     "metadata": {},
     "output_type": "execute_result"
    }
   ],
   "source": [
    "emotions_tess = []\n",
    "path_tess = []\n",
    "\n",
    "for it in Tess_dir_list:\n",
    "    directories = os.listdir(Tess_path + '/' + it)\n",
    "    for file in directories:\n",
    "        part = file.split('.')[0]\n",
    "        parts = part.split('_')  # Split by underscore\n",
    "\n",
    "        if len(parts) > 2:  # Ensure there are at least 3 parts\n",
    "            part = parts[2]\n",
    "            if part == 'ps':\n",
    "                emotions_tess.append('unknown')\n",
    "            elif part == 'disgust':\n",
    "                emotions_tess.append('unknown')\n",
    "            elif part == 'fear':\n",
    "                emotions_tess.append('unknown')\n",
    "            else:\n",
    "                emotions_tess.append(part)\n",
    "        else:\n",
    "            emotions_tess.append('unknown')  # Handle cases where the expected format isn't followed\n",
    "\n",
    "        path_tess.append(Tess_path + it + '/' + file)\n",
    "\n",
    "# dataframe for emotion of files\n",
    "emotion_tess_df = pd.DataFrame(emotions_tess, columns=['Emotions'])\n",
    "\n",
    "# dataframe for path of files.\n",
    "path_tess_df = pd.DataFrame(path_tess, columns=['Path'])\n",
    "Tess_df = pd.concat([emotion_tess_df, path_tess_df], axis=1)\n",
    "Tess_df = Tess_df[Tess_df['Emotions'] != 'unknown'].reset_index(drop=True)\n",
    "Tess_df.head().style.set_properties(**{'background-color': '#9490ff',\n",
    "                                       'color': 'black',\n",
    "                                       'border-color': 'black'})\n"
   ]
  },
  {
   "cell_type": "code",
   "execution_count": 18,
   "id": "324a83db",
   "metadata": {
    "execution": {
     "iopub.execute_input": "2024-05-20T08:23:21.461666Z",
     "iopub.status.busy": "2024-05-20T08:23:21.461133Z",
     "iopub.status.idle": "2024-05-20T08:23:21.468109Z",
     "shell.execute_reply": "2024-05-20T08:23:21.467275Z"
    },
    "papermill": {
     "duration": 0.047212,
     "end_time": "2024-05-20T08:23:21.470105",
     "exception": false,
     "start_time": "2024-05-20T08:23:21.422893",
     "status": "completed"
    },
    "tags": []
   },
   "outputs": [
    {
     "data": {
      "text/plain": [
       "[['angry', 'happy', 'neutral', 'sad'], ['angry', 'happy', 'neutral', 'sad']]"
      ]
     },
     "execution_count": 18,
     "metadata": {},
     "output_type": "execute_result"
    }
   ],
   "source": [
    "[Tess_df[\"Emotions\"].unique().tolist() for i in Tess_df.columns]"
   ]
  },
  {
   "cell_type": "code",
   "execution_count": 19,
   "id": "a87cb380",
   "metadata": {
    "execution": {
     "iopub.execute_input": "2024-05-20T08:23:22.624676Z",
     "iopub.status.busy": "2024-05-20T08:23:22.623704Z",
     "iopub.status.idle": "2024-05-20T08:23:22.687642Z",
     "shell.execute_reply": "2024-05-20T08:23:22.686608Z"
    },
    "papermill": {
     "duration": 0.108019,
     "end_time": "2024-05-20T08:23:22.689987",
     "exception": false,
     "start_time": "2024-05-20T08:23:22.581968",
     "status": "completed"
    },
    "tags": []
   },
   "outputs": [
    {
     "data": {
      "text/html": [
       "<style type=\"text/css\">\n",
       "#T_ea395_row0_col0, #T_ea395_row0_col1, #T_ea395_row1_col0, #T_ea395_row1_col1, #T_ea395_row2_col0, #T_ea395_row2_col1, #T_ea395_row3_col0, #T_ea395_row3_col1, #T_ea395_row4_col0, #T_ea395_row4_col1 {\n",
       "  background-color: #9490ff;\n",
       "  color: black;\n",
       "  border-color: black;\n",
       "}\n",
       "</style>\n",
       "<table id=\"T_ea395_\">\n",
       "  <thead>\n",
       "    <tr>\n",
       "      <th class=\"blank level0\" >&nbsp;</th>\n",
       "      <th class=\"col_heading level0 col0\" >Emotions</th>\n",
       "      <th class=\"col_heading level0 col1\" >Path</th>\n",
       "    </tr>\n",
       "  </thead>\n",
       "  <tbody>\n",
       "    <tr>\n",
       "      <th id=\"T_ea395_level0_row0\" class=\"row_heading level0 row0\" >0</th>\n",
       "      <td id=\"T_ea395_row0_col0\" class=\"data row0 col0\" >angry</td>\n",
       "      <td id=\"T_ea395_row0_col1\" class=\"data row0 col1\" >files/Crema/1001_DFA_ANG_XX.wav</td>\n",
       "    </tr>\n",
       "    <tr>\n",
       "      <th id=\"T_ea395_level0_row1\" class=\"row_heading level0 row1\" >1</th>\n",
       "      <td id=\"T_ea395_row1_col0\" class=\"data row1 col0\" >happy</td>\n",
       "      <td id=\"T_ea395_row1_col1\" class=\"data row1 col1\" >files/Crema/1001_DFA_HAP_XX.wav</td>\n",
       "    </tr>\n",
       "    <tr>\n",
       "      <th id=\"T_ea395_level0_row2\" class=\"row_heading level0 row2\" >2</th>\n",
       "      <td id=\"T_ea395_row2_col0\" class=\"data row2 col0\" >neutral</td>\n",
       "      <td id=\"T_ea395_row2_col1\" class=\"data row2 col1\" >files/Crema/1001_DFA_NEU_XX.wav</td>\n",
       "    </tr>\n",
       "    <tr>\n",
       "      <th id=\"T_ea395_level0_row3\" class=\"row_heading level0 row3\" >3</th>\n",
       "      <td id=\"T_ea395_row3_col0\" class=\"data row3 col0\" >sad</td>\n",
       "      <td id=\"T_ea395_row3_col1\" class=\"data row3 col1\" >files/Crema/1001_DFA_SAD_XX.wav</td>\n",
       "    </tr>\n",
       "    <tr>\n",
       "      <th id=\"T_ea395_level0_row4\" class=\"row_heading level0 row4\" >4</th>\n",
       "      <td id=\"T_ea395_row4_col0\" class=\"data row4 col0\" >angry</td>\n",
       "      <td id=\"T_ea395_row4_col1\" class=\"data row4 col1\" >files/Crema/1001_IEO_ANG_HI.wav</td>\n",
       "    </tr>\n",
       "  </tbody>\n",
       "</table>\n"
      ],
      "text/plain": [
       "<pandas.io.formats.style.Styler at 0x180eb176f48>"
      ]
     },
     "execution_count": 19,
     "metadata": {},
     "output_type": "execute_result"
    }
   ],
   "source": [
    "Sum_df = pd.concat([Crema_df, Ravdess_df, Savee_df, Tess_df], axis = 0)\n",
    "Sum_df.to_csv(\"Sum_df.csv\",index=False)\n",
    "Sum_df.head().style.set_properties(**{'background-color': '#9490ff',\n",
    "                           'color': 'black',\n",
    "                           'border-color': 'black'})"
   ]
  },
  {
   "cell_type": "code",
   "execution_count": 20,
   "id": "7e78f44a",
   "metadata": {
    "execution": {
     "iopub.execute_input": "2024-05-20T08:23:22.784040Z",
     "iopub.status.busy": "2024-05-20T08:23:22.783667Z",
     "iopub.status.idle": "2024-05-20T08:23:22.792763Z",
     "shell.execute_reply": "2024-05-20T08:23:22.791901Z"
    },
    "papermill": {
     "duration": 0.054699,
     "end_time": "2024-05-20T08:23:22.794763",
     "exception": false,
     "start_time": "2024-05-20T08:23:22.740064",
     "status": "completed"
    },
    "tags": []
   },
   "outputs": [
    {
     "data": {
      "text/plain": [
       "[['angry', 'happy', 'neutral', 'sad'], ['angry', 'happy', 'neutral', 'sad']]"
      ]
     },
     "execution_count": 20,
     "metadata": {},
     "output_type": "execute_result"
    }
   ],
   "source": [
    "[Sum_df[\"Emotions\"].unique().tolist() for i in Sum_df.columns]"
   ]
  },
  {
   "cell_type": "code",
   "execution_count": 21,
   "id": "88d30f33",
   "metadata": {
    "execution": {
     "iopub.execute_input": "2024-05-20T08:23:22.878025Z",
     "iopub.status.busy": "2024-05-20T08:23:22.877260Z",
     "iopub.status.idle": "2024-05-20T08:23:23.697476Z",
     "shell.execute_reply": "2024-05-20T08:23:23.696592Z"
    },
    "papermill": {
     "duration": 0.864975,
     "end_time": "2024-05-20T08:23:23.701374",
     "exception": false,
     "start_time": "2024-05-20T08:23:22.836399",
     "status": "completed"
    },
    "tags": []
   },
   "outputs": [
    {
     "data": {
      "image/png": "[encoded data removed]",
      "text/plain": [
       "<Figure size 4000x2000 with 1 Axes>"
      ]
     },
     "metadata": {},
     "output_type": "display_data"
    }
   ],
   "source": [
    "sns.set(style=\"whitegrid\", color_codes=True)\n",
    "plt.figure(figsize=(20,10),dpi=200)\n",
    "Count_emotion = Sum_df['Emotions'].value_counts()[:]\n",
    "ax = sns.barplot(x= Count_emotion, y= Count_emotion.index, palette=\"mako\")\n",
    "ax.bar_label(ax.containers[0],fontsize=16)\n",
    "plt.xticks(fontsize=20)\n",
    "plt.yticks(fontsize=20)\n",
    "plt.ylabel(\"Name of Emotions\", fontdict= font1)\n",
    "plt.xlabel(\"Count of Emotions\", fontdict= font1)\n",
    "plt.title(\"Emotions - Count\", fontdict= font1)\n",
    "plt.show()"
   ]
  },
  {
   "cell_type": "code",
   "execution_count": 23,
   "id": "62d7dace",
   "metadata": {
    "execution": {
     "iopub.execute_input": "2024-05-20T08:23:24.067886Z",
     "iopub.status.busy": "2024-05-20T08:23:24.067579Z",
     "iopub.status.idle": "2024-05-20T08:23:24.075668Z",
     "shell.execute_reply": "2024-05-20T08:23:24.074815Z"
    },
    "papermill": {
     "duration": 0.053764,
     "end_time": "2024-05-20T08:23:24.077622",
     "exception": false,
     "start_time": "2024-05-20T08:23:24.023858",
     "status": "completed"
    },
    "tags": []
   },
   "outputs": [
    {
     "data": {
      "text/plain": [
       "[['angry', 'happy', 'neutral', 'sad'], ['angry', 'happy', 'neutral', 'sad']]"
      ]
     },
     "execution_count": 23,
     "metadata": {},
     "output_type": "execute_result"
    }
   ],
   "source": [
    "[Sum_df[\"Emotions\"].unique().tolist() for i in Sum_df.columns]"
   ]
  },
  {
   "cell_type": "code",
   "execution_count": 25,
   "id": "3d1e6684",
   "metadata": {
    "execution": {
     "iopub.execute_input": "2024-05-20T08:23:25.651439Z",
     "iopub.status.busy": "2024-05-20T08:23:25.651072Z",
     "iopub.status.idle": "2024-05-20T08:26:17.686098Z",
     "shell.execute_reply": "2024-05-20T08:26:17.685095Z"
    },
    "papermill": {
     "duration": 172.132898,
     "end_time": "2024-05-20T08:26:17.736197",
     "exception": false,
     "start_time": "2024-05-20T08:23:25.603299",
     "status": "completed"
    },
    "tags": []
   },
   "outputs": [
    {
     "name": "stderr",
     "output_type": "stream",
     "text": [
      "Processing audio files: 100%|██████████| 7472/7472 [40:53<00:00,  3.05it/s]  \n"
     ]
    }
   ],
   "source": [
    "from tqdm import tqdm  # Import tqdm for progress bar\n",
    "import librosa\n",
    "\n",
    "# Initialize an empty list to store audio arrays\n",
    "audio_arrays = []\n",
    "\n",
    "# Iterate over the paths in 'Sum_df_rep' with a progress bar\n",
    "for i in tqdm(Sum_df['Path'], desc=\"Processing audio files\"):\n",
    "    y, sr = librosa.load(i, sr=44100)  # Load the audio file\n",
    "    audio_arrays.append(y)  # Append the loaded audio array to the list\n",
    "\n",
    "# Add the new list to the DataFrame\n",
    "Sum_df['Arrays'] = audio_arrays\n"
   ]
  },
  {
   "cell_type": "code",
   "execution_count": 26,
   "id": "8ffe36d2",
   "metadata": {
    "execution": {
     "iopub.execute_input": "2024-05-20T08:26:17.843613Z",
     "iopub.status.busy": "2024-05-20T08:26:17.842599Z",
     "iopub.status.idle": "2024-05-20T08:26:17.854441Z",
     "shell.execute_reply": "2024-05-20T08:26:17.853601Z"
    },
    "papermill": {
     "duration": 0.0683,
     "end_time": "2024-05-20T08:26:17.856374",
     "exception": false,
     "start_time": "2024-05-20T08:26:17.788074",
     "status": "completed"
    },
    "tags": []
   },
   "outputs": [
    {
     "data": {
      "text/html": [
       "<style type=\"text/css\">\n",
       "#T_ccb54_row0_col0, #T_ccb54_row0_col1, #T_ccb54_row0_col2, #T_ccb54_row1_col0, #T_ccb54_row1_col1, #T_ccb54_row1_col2, #T_ccb54_row2_col0, #T_ccb54_row2_col1, #T_ccb54_row2_col2, #T_ccb54_row3_col0, #T_ccb54_row3_col1, #T_ccb54_row3_col2, #T_ccb54_row4_col0, #T_ccb54_row4_col1, #T_ccb54_row4_col2 {\n",
       "  background-color: #9490ff;\n",
       "  color: black;\n",
       "  border-color: black;\n",
       "}\n",
       "</style>\n",
       "<table id=\"T_ccb54_\">\n",
       "  <thead>\n",
       "    <tr>\n",
       "      <th class=\"blank level0\" >&nbsp;</th>\n",
       "      <th class=\"col_heading level0 col0\" >Emotions</th>\n",
       "      <th class=\"col_heading level0 col1\" >Path</th>\n",
       "      <th class=\"col_heading level0 col2\" >Arrays</th>\n",
       "    </tr>\n",
       "  </thead>\n",
       "  <tbody>\n",
       "    <tr>\n",
       "      <th id=\"T_ccb54_level0_row0\" class=\"row_heading level0 row0\" >0</th>\n",
       "      <td id=\"T_ccb54_row0_col0\" class=\"data row0 col0\" >angry</td>\n",
       "      <td id=\"T_ccb54_row0_col1\" class=\"data row0 col1\" >files/Crema/1001_DFA_ANG_XX.wav</td>\n",
       "      <td id=\"T_ccb54_row0_col2\" class=\"data row0 col2\" >[0.0000000e+00 0.0000000e+00 0.0000000e+00 ... 2.0702407e-06 6.3696680e-06\n",
       " 0.0000000e+00]</td>\n",
       "    </tr>\n",
       "    <tr>\n",
       "      <th id=\"T_ccb54_level0_row1\" class=\"row_heading level0 row1\" >1</th>\n",
       "      <td id=\"T_ccb54_row1_col0\" class=\"data row1 col0\" >happy</td>\n",
       "      <td id=\"T_ccb54_row1_col1\" class=\"data row1 col1\" >files/Crema/1001_DFA_HAP_XX.wav</td>\n",
       "      <td id=\"T_ccb54_row1_col2\" class=\"data row1 col2\" >[-0.0040581  -0.00442315 -0.00405369 ... -0.00021015 -0.00014664\n",
       "  0.        ]</td>\n",
       "    </tr>\n",
       "    <tr>\n",
       "      <th id=\"T_ccb54_level0_row2\" class=\"row_heading level0 row2\" >2</th>\n",
       "      <td id=\"T_ccb54_row2_col0\" class=\"data row2 col0\" >neutral</td>\n",
       "      <td id=\"T_ccb54_row2_col1\" class=\"data row2 col1\" >files/Crema/1001_DFA_NEU_XX.wav</td>\n",
       "      <td id=\"T_ccb54_row2_col2\" class=\"data row2 col2\" >[ 2.2653900e-03  2.3158076e-03  1.9148014e-03 ... -1.7817781e-04\n",
       " -6.1301071e-05  0.0000000e+00]</td>\n",
       "    </tr>\n",
       "    <tr>\n",
       "      <th id=\"T_ccb54_level0_row3\" class=\"row_heading level0 row3\" >3</th>\n",
       "      <td id=\"T_ccb54_row3_col0\" class=\"data row3 col0\" >sad</td>\n",
       "      <td id=\"T_ccb54_row3_col1\" class=\"data row3 col1\" >files/Crema/1001_DFA_SAD_XX.wav</td>\n",
       "      <td id=\"T_ccb54_row3_col2\" class=\"data row3 col2\" >[0.00261202 0.00293529 0.00281563 ... 0.         0.         0.        ]</td>\n",
       "    </tr>\n",
       "    <tr>\n",
       "      <th id=\"T_ccb54_level0_row4\" class=\"row_heading level0 row4\" >4</th>\n",
       "      <td id=\"T_ccb54_row4_col0\" class=\"data row4 col0\" >angry</td>\n",
       "      <td id=\"T_ccb54_row4_col1\" class=\"data row4 col1\" >files/Crema/1001_IEO_ANG_HI.wav</td>\n",
       "      <td id=\"T_ccb54_row4_col2\" class=\"data row4 col2\" >[-1.17812735e-04 -4.01340250e-04 -5.74032194e-04 ...  5.31186561e-06\n",
       " -2.21210230e-05  0.00000000e+00]</td>\n",
       "    </tr>\n",
       "  </tbody>\n",
       "</table>\n"
      ],
      "text/plain": [
       "<pandas.io.formats.style.Styler at 0x180ed632c48>"
      ]
     },
     "execution_count": 26,
     "metadata": {},
     "output_type": "execute_result"
    }
   ],
   "source": [
    "Sum_df.head().style.set_properties(**{'background-color': '#9490ff',\n",
    "                           'color': 'black',\n",
    "                           'border-color': 'black'})"
   ]
  },
  {
   "cell_type": "code",
   "execution_count": 33,
   "id": "3cc3cac0",
   "metadata": {
    "execution": {
     "iopub.execute_input": "2024-05-20T08:26:17.950142Z",
     "iopub.status.busy": "2024-05-20T08:26:17.949856Z",
     "iopub.status.idle": "2024-05-20T08:26:18.487845Z",
     "shell.execute_reply": "2024-05-20T08:26:18.486971Z"
    },
    "papermill": {
     "duration": 0.587336,
     "end_time": "2024-05-20T08:26:18.490181",
     "exception": false,
     "start_time": "2024-05-20T08:26:17.902845",
     "status": "completed"
    },
    "tags": []
   },
   "outputs": [],
   "source": [
    "happy_sp = Sum_df[Sum_df['Emotions'] == 'happy']['Path']\n",
    "happy_arr = Sum_df[Sum_df['Emotions'] == 'happy']['Arrays']"
   ]
  },
  {
   "cell_type": "code",
   "execution_count": 35,
   "id": "3d73c3bd",
   "metadata": {
    "execution": {
     "iopub.execute_input": "2024-05-20T08:26:21.079072Z",
     "iopub.status.busy": "2024-05-20T08:26:21.078420Z",
     "iopub.status.idle": "2024-05-20T08:26:21.595367Z",
     "shell.execute_reply": "2024-05-20T08:26:21.594438Z"
    },
    "papermill": {
     "duration": 0.584996,
     "end_time": "2024-05-20T08:26:21.598144",
     "exception": false,
     "start_time": "2024-05-20T08:26:21.013148",
     "status": "completed"
    },
    "tags": []
   },
   "outputs": [],
   "source": [
    "sad_sp = Sum_df[Sum_df['Emotions'] == 'sad']['Path']\n",
    "sad_arr = Sum_df[Sum_df['Emotions'] == 'sad']['Arrays']"
   ]
  },
  {
   "cell_type": "code",
   "execution_count": 36,
   "id": "20e2959f",
   "metadata": {
    "execution": {
     "iopub.execute_input": "2024-05-20T08:26:21.740321Z",
     "iopub.status.busy": "2024-05-20T08:26:21.739955Z",
     "iopub.status.idle": "2024-05-20T08:26:22.251554Z",
     "shell.execute_reply": "2024-05-20T08:26:22.250666Z"
    },
    "papermill": {
     "duration": 0.585524,
     "end_time": "2024-05-20T08:26:22.254823",
     "exception": false,
     "start_time": "2024-05-20T08:26:21.669299",
     "status": "completed"
    },
    "tags": []
   },
   "outputs": [],
   "source": [
    "angry_sp = Sum_df[Sum_df['Emotions'] == 'angry']['Path']\n",
    "angry_arr = Sum_df[Sum_df['Emotions'] == 'angry']['Arrays']"
   ]
  },
  {
   "cell_type": "code",
   "execution_count": 37,
   "id": "2fbd7cd6",
   "metadata": {
    "execution": {
     "iopub.execute_input": "2024-05-20T08:26:22.406142Z",
     "iopub.status.busy": "2024-05-20T08:26:22.405349Z",
     "iopub.status.idle": "2024-05-20T08:26:22.942793Z",
     "shell.execute_reply": "2024-05-20T08:26:22.941753Z"
    },
    "papermill": {
     "duration": 0.615829,
     "end_time": "2024-05-20T08:26:22.945915",
     "exception": false,
     "start_time": "2024-05-20T08:26:22.330086",
     "status": "completed"
    },
    "tags": []
   },
   "outputs": [],
   "source": [
    "neutral_sp = Sum_df[Sum_df['Emotions'] == 'neutral']['Path']\n",
    "neutral_arr = Sum_df[Sum_df['Emotions'] == 'neutral']['Arrays']"
   ]
  },
  {
   "cell_type": "code",
   "execution_count": 38,
   "id": "5c2b5dbb",
   "metadata": {
    "execution": {
     "iopub.execute_input": "2024-05-20T08:26:24.331563Z",
     "iopub.status.busy": "2024-05-20T08:26:24.330847Z",
     "iopub.status.idle": "2024-05-20T08:26:24.335932Z",
     "shell.execute_reply": "2024-05-20T08:26:24.335031Z"
    },
    "papermill": {
     "duration": 0.093641,
     "end_time": "2024-05-20T08:26:24.337885",
     "exception": false,
     "start_time": "2024-05-20T08:26:24.244244",
     "status": "completed"
    },
    "tags": []
   },
   "outputs": [
    {
     "name": "stdout",
     "output_type": "stream",
     "text": [
      "2.2675736961451248e-05\n"
     ]
    }
   ],
   "source": [
    "sample_duration = 1/sr\n",
    "print(sample_duration)"
   ]
  },
  {
   "cell_type": "code",
   "execution_count": 39,
   "id": "d0d058cc",
   "metadata": {
    "execution": {
     "iopub.execute_input": "2024-05-20T08:26:24.513135Z",
     "iopub.status.busy": "2024-05-20T08:26:24.512776Z",
     "iopub.status.idle": "2024-05-20T08:26:24.517636Z",
     "shell.execute_reply": "2024-05-20T08:26:24.516676Z"
    },
    "papermill": {
     "duration": 0.09399,
     "end_time": "2024-05-20T08:26:24.520044",
     "exception": false,
     "start_time": "2024-05-20T08:26:24.426054",
     "status": "completed"
    },
    "tags": []
   },
   "outputs": [
    {
     "name": "stdout",
     "output_type": "stream",
     "text": [
      "Duration of signal is: 0.17 seconds\n"
     ]
    }
   ],
   "source": [
    "#duration of the audio signals in seconds\n",
    "duration = sample_duration * len(audio_arrays)\n",
    "print(f\"Duration of signal is: {duration:.2f} seconds\")"
   ]
  },
  {
   "cell_type": "code",
   "execution_count": 40,
   "id": "c6a8cb76",
   "metadata": {
    "execution": {
     "iopub.execute_input": "2024-05-20T08:26:24.707681Z",
     "iopub.status.busy": "2024-05-20T08:26:24.707244Z",
     "iopub.status.idle": "2024-05-20T08:26:24.714888Z",
     "shell.execute_reply": "2024-05-20T08:26:24.713858Z"
    },
    "papermill": {
     "duration": 0.109752,
     "end_time": "2024-05-20T08:26:24.717053",
     "exception": false,
     "start_time": "2024-05-20T08:26:24.607301",
     "status": "completed"
    },
    "tags": []
   },
   "outputs": [],
   "source": [
    "Frame_size = 1024\n",
    "#HOP =  Current frame how many samples shift to the right for calculating the next frame\n",
    "Hop_lenght = 512 \n",
    "\n",
    "#calculate the amplitude envelope\n",
    "\n",
    "def amplitude_env (signal, frame_size, hop_length):\n",
    "    amplitude_envelope = []\n",
    "    \n",
    "    #calculate AE (Amp Env) for each frame\n",
    "    for i in range (0, len(signal), hop_length):\n",
    "        current_frame_amplitude_env = max(signal[i:i+frame_size])\n",
    "        amplitude_envelope.append(current_frame_amplitude_env)\n",
    "        \n",
    "    return np.array(amplitude_envelope)\n",
    "\n",
    "\n",
    "def fancy_amplitude_env (signal, frame_size, hop_length):\n",
    "    \n",
    "    return np.array([max(signal[i:i+frame_size]) for i in range(0, signal.size, hop_length)])"
   ]
  },
  {
   "cell_type": "code",
   "execution_count": 41,
   "id": "6133e38a",
   "metadata": {
    "execution": {
     "iopub.execute_input": "2024-05-20T08:26:24.896746Z",
     "iopub.status.busy": "2024-05-20T08:26:24.895925Z",
     "iopub.status.idle": "2024-05-20T08:26:24.901712Z",
     "shell.execute_reply": "2024-05-20T08:26:24.900737Z"
    },
    "papermill": {
     "duration": 0.094367,
     "end_time": "2024-05-20T08:26:24.903585",
     "exception": false,
     "start_time": "2024-05-20T08:26:24.809218",
     "status": "completed"
    },
    "tags": []
   },
   "outputs": [],
   "source": [
    "# Samples\n",
    "Sp_happy= happy_arr.iloc[0]\n",
    "Sp_sad = sad_arr.iloc[0]\n",
    "Sp_neutral = neutral_arr.iloc[0]\n",
    "Sp_angry = angry_arr.iloc[0]"
   ]
  },
  {
   "cell_type": "code",
   "execution_count": 42,
   "id": "959e8044",
   "metadata": {
    "execution": {
     "iopub.execute_input": "2024-05-20T08:26:25.077929Z",
     "iopub.status.busy": "2024-05-20T08:26:25.077134Z",
     "iopub.status.idle": "2024-05-20T08:26:25.307589Z",
     "shell.execute_reply": "2024-05-20T08:26:25.306613Z"
    },
    "papermill": {
     "duration": 0.319865,
     "end_time": "2024-05-20T08:26:25.309459",
     "exception": false,
     "start_time": "2024-05-20T08:26:24.989594",
     "status": "completed"
    },
    "tags": []
   },
   "outputs": [
    {
     "name": "stdout",
     "output_type": "stream",
     "text": [
      "197 161 176 173\n"
     ]
    }
   ],
   "source": [
    "\n",
    "AE_happy = amplitude_env(Sp_happy, Frame_size, Hop_lenght)\n",
    "AE_sad = amplitude_env(Sp_sad, Frame_size, Hop_lenght)\n",
    "AE_neutral = amplitude_env(Sp_neutral, Frame_size, Hop_lenght)\n",
    "AE_angry = amplitude_env(Sp_angry, Frame_size, Hop_lenght)\n",
    "\n",
    "print( len(AE_angry), len(AE_happy), len(AE_neutral), len(AE_sad))\n"
   ]
  },
  {
   "cell_type": "code",
   "execution_count": 43,
   "id": "0f2998dc",
   "metadata": {
    "execution": {
     "iopub.execute_input": "2024-05-20T08:26:25.486774Z",
     "iopub.status.busy": "2024-05-20T08:26:25.486032Z",
     "iopub.status.idle": "2024-05-20T08:26:25.719518Z",
     "shell.execute_reply": "2024-05-20T08:26:25.718418Z"
    },
    "papermill": {
     "duration": 0.323221,
     "end_time": "2024-05-20T08:26:25.721618",
     "exception": false,
     "start_time": "2024-05-20T08:26:25.398397",
     "status": "completed"
    },
    "tags": []
   },
   "outputs": [
    {
     "name": "stdout",
     "output_type": "stream",
     "text": [
      "197 161 176 173\n"
     ]
    }
   ],
   "source": [
    "\n",
    "fancy_AE_happy = fancy_amplitude_env(Sp_happy, Frame_size, Hop_lenght)\n",
    "fancy_AE_sad = fancy_amplitude_env(Sp_sad, Frame_size, Hop_lenght)\n",
    "fancy_AE_neutral = fancy_amplitude_env(Sp_neutral, Frame_size, Hop_lenght)\n",
    "fancy_AE_angry = fancy_amplitude_env(Sp_angry, Frame_size, Hop_lenght)\n",
    "\n",
    "print( len(fancy_AE_angry),\n",
    "      len(fancy_AE_happy), len(fancy_AE_neutral),len(fancy_AE_sad))"
   ]
  },
  {
   "cell_type": "code",
   "execution_count": 45,
   "id": "12a01afc",
   "metadata": {
    "execution": {
     "iopub.execute_input": "2024-05-20T08:26:31.414684Z",
     "iopub.status.busy": "2024-05-20T08:26:31.414330Z",
     "iopub.status.idle": "2024-05-20T08:26:31.425698Z",
     "shell.execute_reply": "2024-05-20T08:26:31.424843Z"
    },
    "papermill": {
     "duration": 0.125896,
     "end_time": "2024-05-20T08:26:31.427577",
     "exception": false,
     "start_time": "2024-05-20T08:26:31.301681",
     "status": "completed"
    },
    "tags": []
   },
   "outputs": [],
   "source": [
    "def noise(data):\n",
    "    noise_amp = 0.035*np.random.uniform()*np.amax(data)\n",
    "    data = data + noise_amp*np.random.normal(size=data.shape[0])\n",
    "    return data\n",
    "\n",
    "\n",
    "\n",
    "def stretch(data, rate=0.8):\n",
    "    return librosa.effects.time_stretch(data, rate=0.8)\n",
    "\n",
    "\n",
    "# taking any example and checking for techniques.\n",
    "path = np.array(Sum_df.Path)[1]\n",
    "data, sample_rate = librosa.load(path)"
   ]
  },
  {
   "cell_type": "code",
   "execution_count": 48,
   "id": "d5400c6c",
   "metadata": {
    "execution": {
     "iopub.execute_input": "2024-05-20T08:26:35.667531Z",
     "iopub.status.busy": "2024-05-20T08:26:35.667117Z",
     "iopub.status.idle": "2024-05-20T08:26:35.680721Z",
     "shell.execute_reply": "2024-05-20T08:26:35.679785Z"
    },
    "papermill": {
     "duration": 0.143873,
     "end_time": "2024-05-20T08:26:35.682914",
     "exception": false,
     "start_time": "2024-05-20T08:26:35.539041",
     "status": "completed"
    },
    "tags": []
   },
   "outputs": [
    {
     "data": {
      "text/html": [
       "<div>\n",
       "<style scoped>\n",
       "    .dataframe tbody tr th:only-of-type {\n",
       "        vertical-align: middle;\n",
       "    }\n",
       "\n",
       "    .dataframe tbody tr th {\n",
       "        vertical-align: top;\n",
       "    }\n",
       "\n",
       "    .dataframe thead th {\n",
       "        text-align: right;\n",
       "    }\n",
       "</style>\n",
       "<table border=\"1\" class=\"dataframe\">\n",
       "  <thead>\n",
       "    <tr style=\"text-align: right;\">\n",
       "      <th></th>\n",
       "      <th>Emotions</th>\n",
       "      <th>Path</th>\n",
       "    </tr>\n",
       "  </thead>\n",
       "  <tbody>\n",
       "    <tr>\n",
       "      <th>0</th>\n",
       "      <td>angry</td>\n",
       "      <td>files/Crema/1001_DFA_ANG_XX.wav</td>\n",
       "    </tr>\n",
       "    <tr>\n",
       "      <th>1</th>\n",
       "      <td>happy</td>\n",
       "      <td>files/Crema/1001_DFA_HAP_XX.wav</td>\n",
       "    </tr>\n",
       "    <tr>\n",
       "      <th>2</th>\n",
       "      <td>neutral</td>\n",
       "      <td>files/Crema/1001_DFA_NEU_XX.wav</td>\n",
       "    </tr>\n",
       "    <tr>\n",
       "      <th>3</th>\n",
       "      <td>sad</td>\n",
       "      <td>files/Crema/1001_DFA_SAD_XX.wav</td>\n",
       "    </tr>\n",
       "    <tr>\n",
       "      <th>4</th>\n",
       "      <td>angry</td>\n",
       "      <td>files/Crema/1001_IEO_ANG_HI.wav</td>\n",
       "    </tr>\n",
       "    <tr>\n",
       "      <th>...</th>\n",
       "      <td>...</td>\n",
       "      <td>...</td>\n",
       "    </tr>\n",
       "    <tr>\n",
       "      <th>4895</th>\n",
       "      <td>sad</td>\n",
       "      <td>files/Crema/1091_TSI_SAD_XX.wav</td>\n",
       "    </tr>\n",
       "    <tr>\n",
       "      <th>4896</th>\n",
       "      <td>angry</td>\n",
       "      <td>files/Crema/1091_WSI_ANG_XX.wav</td>\n",
       "    </tr>\n",
       "    <tr>\n",
       "      <th>4897</th>\n",
       "      <td>happy</td>\n",
       "      <td>files/Crema/1091_WSI_HAP_XX.wav</td>\n",
       "    </tr>\n",
       "    <tr>\n",
       "      <th>4898</th>\n",
       "      <td>neutral</td>\n",
       "      <td>files/Crema/1091_WSI_NEU_XX.wav</td>\n",
       "    </tr>\n",
       "    <tr>\n",
       "      <th>4899</th>\n",
       "      <td>sad</td>\n",
       "      <td>files/Crema/1091_WSI_SAD_XX.wav</td>\n",
       "    </tr>\n",
       "  </tbody>\n",
       "</table>\n",
       "<p>4900 rows × 2 columns</p>\n",
       "</div>"
      ],
      "text/plain": [
       "     Emotions                             Path\n",
       "0       angry  files/Crema/1001_DFA_ANG_XX.wav\n",
       "1       happy  files/Crema/1001_DFA_HAP_XX.wav\n",
       "2     neutral  files/Crema/1001_DFA_NEU_XX.wav\n",
       "3         sad  files/Crema/1001_DFA_SAD_XX.wav\n",
       "4       angry  files/Crema/1001_IEO_ANG_HI.wav\n",
       "...       ...                              ...\n",
       "4895      sad  files/Crema/1091_TSI_SAD_XX.wav\n",
       "4896    angry  files/Crema/1091_WSI_ANG_XX.wav\n",
       "4897    happy  files/Crema/1091_WSI_HAP_XX.wav\n",
       "4898  neutral  files/Crema/1091_WSI_NEU_XX.wav\n",
       "4899      sad  files/Crema/1091_WSI_SAD_XX.wav\n",
       "\n",
       "[4900 rows x 2 columns]"
      ]
     },
     "execution_count": 48,
     "metadata": {},
     "output_type": "execute_result"
    }
   ],
   "source": [
    "Crema_df"
   ]
  },
  {
   "cell_type": "code",
   "execution_count": 49,
   "id": "17354331",
   "metadata": {
    "execution": {
     "iopub.execute_input": "2024-05-20T08:26:36.464982Z",
     "iopub.status.busy": "2024-05-20T08:26:36.464614Z",
     "iopub.status.idle": "2024-05-20T08:26:36.469888Z",
     "shell.execute_reply": "2024-05-20T08:26:36.468929Z"
    },
    "papermill": {
     "duration": 0.135916,
     "end_time": "2024-05-20T08:26:36.471940",
     "exception": false,
     "start_time": "2024-05-20T08:26:36.336024",
     "status": "completed"
    },
    "tags": []
   },
   "outputs": [],
   "source": [
    "def extract_mfcc(filename):\n",
    "    y, sr = librosa.load(filename, duration = 3, offset = 0.5)\n",
    "    mfcc = np.mean(librosa.feature.mfcc(y = y, sr = sr, n_mfcc = 40).T, axis = 0)\n",
    "    return mfcc"
   ]
  },
  {
   "cell_type": "code",
   "execution_count": 50,
   "id": "0e3f1947",
   "metadata": {
    "execution": {
     "iopub.execute_input": "2024-05-20T08:26:36.724347Z",
     "iopub.status.busy": "2024-05-20T08:26:36.723959Z",
     "iopub.status.idle": "2024-05-20T08:26:37.720767Z",
     "shell.execute_reply": "2024-05-20T08:26:37.719316Z"
    },
    "papermill": {
     "duration": 1.126328,
     "end_time": "2024-05-20T08:26:37.723929",
     "exception": false,
     "start_time": "2024-05-20T08:26:36.597601",
     "status": "completed"
    },
    "tags": []
   },
   "outputs": [
    {
     "data": {
      "text/plain": [
       "array([-3.2686218e+02,  1.3193694e+02, -2.2300175e+01,  4.7366234e+01,\n",
       "       -8.6453772e+00,  1.6426687e+01, -2.3571976e+01, -4.6153426e+00,\n",
       "       -9.4483004e+00, -4.2352753e+00, -9.3214989e+00, -5.1042514e+00,\n",
       "       -2.6365563e-01, -1.7497593e+01,  1.1547095e+01, -1.3623844e+01,\n",
       "       -6.8494811e+00, -1.6621085e+00, -3.5109637e+00, -6.6830435e+00,\n",
       "       -9.2853546e+00, -2.4452848e+00, -1.0247077e+01, -1.0389091e+00,\n",
       "       -5.0882840e+00,  2.2761056e+00, -4.1292558e+00, -2.6244586e+00,\n",
       "       -5.5327290e-01, -4.6525426e+00,  5.5967855e-01, -3.8815165e+00,\n",
       "        7.4732512e-01, -4.2431264e+00, -4.1209807e+00, -5.8962879e+00,\n",
       "       -4.5208874e+00, -3.4234977e+00, -4.2517080e+00, -1.5987728e+00],\n",
       "      dtype=float32)"
      ]
     },
     "execution_count": 50,
     "metadata": {},
     "output_type": "execute_result"
    }
   ],
   "source": [
    "extract_mfcc(Crema_df['Path'][0])"
   ]
  },
  {
   "cell_type": "code",
   "execution_count": 51,
   "id": "25539bff",
   "metadata": {
    "execution": {
     "iopub.execute_input": "2024-05-20T08:26:38.053360Z",
     "iopub.status.busy": "2024-05-20T08:26:38.052476Z",
     "iopub.status.idle": "2024-05-20T08:28:56.483346Z",
     "shell.execute_reply": "2024-05-20T08:28:56.482112Z"
    },
    "papermill": {
     "duration": 138.756036,
     "end_time": "2024-05-20T08:28:56.680676",
     "exception": false,
     "start_time": "2024-05-20T08:26:37.924640",
     "status": "completed"
    },
    "tags": []
   },
   "outputs": [
    {
     "name": "stderr",
     "output_type": "stream",
     "text": [
      "Extracting MFCCs: 100%|██████████| 4900/4900 [12:55<00:00,  6.32it/s]\n"
     ]
    }
   ],
   "source": [
    "from tqdm import tqdm\n",
    "\n",
    "# Add progress bar using tqdm\n",
    "# Note: Use `tqdm.pandas()` to enable progress_apply on Pandas DataFrame\n",
    "tqdm.pandas(desc=\"Extracting MFCCs\")\n",
    "\n",
    "# Apply the function with progress bar\n",
    "X_mfcc = Crema_df['Path'].progress_apply(lambda x: extract_mfcc(x))\n"
   ]
  },
  {
   "cell_type": "code",
   "execution_count": 52,
   "id": "18c14f7e",
   "metadata": {
    "execution": {
     "iopub.execute_input": "2024-05-20T08:28:57.438076Z",
     "iopub.status.busy": "2024-05-20T08:28:57.437700Z",
     "iopub.status.idle": "2024-05-20T08:28:57.450993Z",
     "shell.execute_reply": "2024-05-20T08:28:57.450137Z"
    },
    "papermill": {
     "duration": 0.141683,
     "end_time": "2024-05-20T08:28:57.452981",
     "exception": false,
     "start_time": "2024-05-20T08:28:57.311298",
     "status": "completed"
    },
    "tags": []
   },
   "outputs": [
    {
     "data": {
      "text/plain": [
       "(4900, 40)"
      ]
     },
     "execution_count": 52,
     "metadata": {},
     "output_type": "execute_result"
    }
   ],
   "source": [
    "X = [x for x in X_mfcc]\n",
    "X = np.array(X)\n",
    "X.shape"
   ]
  },
  {
   "cell_type": "code",
   "execution_count": 53,
   "id": "2f486680",
   "metadata": {
    "execution": {
     "iopub.execute_input": "2024-05-20T08:28:57.717122Z",
     "iopub.status.busy": "2024-05-20T08:28:57.716767Z",
     "iopub.status.idle": "2024-05-20T08:28:57.723120Z",
     "shell.execute_reply": "2024-05-20T08:28:57.722305Z"
    },
    "papermill": {
     "duration": 0.144382,
     "end_time": "2024-05-20T08:28:57.725051",
     "exception": false,
     "start_time": "2024-05-20T08:28:57.580669",
     "status": "completed"
    },
    "tags": []
   },
   "outputs": [
    {
     "data": {
      "text/plain": [
       "(4900, 40, 1)"
      ]
     },
     "execution_count": 53,
     "metadata": {},
     "output_type": "execute_result"
    }
   ],
   "source": [
    "## input split\n",
    "X = np.expand_dims(X, -1)\n",
    "X.shape"
   ]
  },
  {
   "cell_type": "code",
   "execution_count": 54,
   "id": "55a80197",
   "metadata": {
    "execution": {
     "iopub.execute_input": "2024-05-20T08:28:57.997946Z",
     "iopub.status.busy": "2024-05-20T08:28:57.996873Z",
     "iopub.status.idle": "2024-05-20T08:28:58.008764Z",
     "shell.execute_reply": "2024-05-20T08:28:58.007996Z"
    },
    "papermill": {
     "duration": 0.142187,
     "end_time": "2024-05-20T08:28:58.010698",
     "exception": false,
     "start_time": "2024-05-20T08:28:57.868511",
     "status": "completed"
    },
    "tags": []
   },
   "outputs": [],
   "source": [
    "enc = OneHotEncoder()\n",
    "y = enc.fit_transform(Crema_df[['Emotions']])"
   ]
  },
  {
   "cell_type": "code",
   "execution_count": 55,
   "id": "30d6358e",
   "metadata": {
    "execution": {
     "iopub.execute_input": "2024-05-20T08:28:58.268135Z",
     "iopub.status.busy": "2024-05-20T08:28:58.267751Z",
     "iopub.status.idle": "2024-05-20T08:28:58.274152Z",
     "shell.execute_reply": "2024-05-20T08:28:58.273332Z"
    },
    "papermill": {
     "duration": 0.136273,
     "end_time": "2024-05-20T08:28:58.276050",
     "exception": false,
     "start_time": "2024-05-20T08:28:58.139777",
     "status": "completed"
    },
    "tags": []
   },
   "outputs": [],
   "source": [
    "y = y.toarray()"
   ]
  },
  {
   "cell_type": "code",
   "execution_count": 77,
   "id": "bef51684",
   "metadata": {},
   "outputs": [
    {
     "name": "stdout",
     "output_type": "stream",
     "text": [
      "[[1. 0. 0. 0.]\n",
      " [0. 1. 0. 0.]\n",
      " [0. 0. 1. 0.]\n",
      " ...\n",
      " [0. 1. 0. 0.]\n",
      " [0. 0. 1. 0.]\n",
      " [0. 0. 0. 1.]]\n",
      "['angry' 'happy' 'neutral' 'sad']\n"
     ]
    }
   ],
   "source": [
    "print(enc.fit_transform(Crema_df[['Emotions']]).toarray())\n",
    "print(Crema_df['Emotions'].unique())"
   ]
  },
  {
   "cell_type": "code",
   "execution_count": 57,
   "id": "72c98334",
   "metadata": {
    "execution": {
     "iopub.execute_input": "2024-05-20T08:28:59.282415Z",
     "iopub.status.busy": "2024-05-20T08:28:59.282035Z",
     "iopub.status.idle": "2024-05-20T08:29:00.546362Z",
     "shell.execute_reply": "2024-05-20T08:29:00.545532Z"
    },
    "papermill": {
     "duration": 1.392557,
     "end_time": "2024-05-20T08:29:00.548534",
     "exception": false,
     "start_time": "2024-05-20T08:28:59.155977",
     "status": "completed"
    },
    "tags": []
   },
   "outputs": [
    {
     "name": "stdout",
     "output_type": "stream",
     "text": [
      "Model: \"sequential\"\n",
      "_________________________________________________________________\n",
      " Layer (type)                Output Shape              Param #   \n",
      "=================================================================\n",
      " lstm (LSTM)                 (None, 256)               264192    \n",
      "                                                                 \n",
      " dropout (Dropout)           (None, 256)               0         \n",
      "                                                                 \n",
      " dense (Dense)               (None, 128)               32896     \n",
      "                                                                 \n",
      " dropout_1 (Dropout)         (None, 128)               0         \n",
      "                                                                 \n",
      " dense_1 (Dense)             (None, 64)                8256      \n",
      "                                                                 \n",
      " dropout_2 (Dropout)         (None, 64)                0         \n",
      "                                                                 \n",
      " dense_2 (Dense)             (None, 4)                 260       \n",
      "                                                                 \n",
      "=================================================================\n",
      "Total params: 305,604\n",
      "Trainable params: 305,604\n",
      "Non-trainable params: 0\n",
      "_________________________________________________________________\n",
      "<class 'collections.abc.Iterable'>\n"
     ]
    }
   ],
   "source": [
    "model = Sequential([\n",
    "    LSTM(256, return_sequences=False, input_shape=(40, 1)),\n",
    "    Dropout(0.2),\n",
    "    Dense(128, activation='relu'),\n",
    "    Dropout(0.2),\n",
    "    Dense(64, activation='relu'),\n",
    "    Dropout(0.2),\n",
    "    Dense(4, activation='softmax')  # Change to 4 if you have 4 classes\n",
    "])\n",
    "\n",
    "\n",
    "model.compile(loss='categorical_crossentropy', optimizer='adam', metrics=['accuracy'])\n",
    "model.summary()\n",
    "print(Iterable)"
   ]
  },
  {
   "cell_type": "code",
   "execution_count": 58,
   "id": "5886e847",
   "metadata": {},
   "outputs": [
    {
     "name": "stdout",
     "output_type": "stream",
     "text": [
      "<class 'numpy.ndarray'> <class 'numpy.ndarray'>\n"
     ]
    }
   ],
   "source": [
    "print(type(X), type(y))  # Should be <class 'numpy.ndarray'> or <class 'tensorflow.python.framework.ops.Tensor'>\n"
   ]
  },
  {
   "cell_type": "code",
   "execution_count": 59,
   "id": "17df8166",
   "metadata": {},
   "outputs": [
    {
     "name": "stdout",
     "output_type": "stream",
     "text": [
      "(4900, 40, 1) (4900, 4)\n"
     ]
    }
   ],
   "source": [
    "print(X.shape, y.shape)  # Check if shapes are compatible\n"
   ]
  },
  {
   "cell_type": "code",
   "execution_count": 60,
   "id": "2c8e3cc1",
   "metadata": {
    "execution": {
     "iopub.execute_input": "2024-05-20T08:29:00.804322Z",
     "iopub.status.busy": "2024-05-20T08:29:00.803946Z",
     "iopub.status.idle": "2024-05-20T08:34:44.090033Z",
     "shell.execute_reply": "2024-05-20T08:34:44.089064Z"
    },
    "papermill": {
     "duration": 343.415982,
     "end_time": "2024-05-20T08:34:44.091969",
     "exception": false,
     "start_time": "2024-05-20T08:29:00.675987",
     "status": "completed"
    },
    "tags": []
   },
   "outputs": [
    {
     "name": "stdout",
     "output_type": "stream",
     "text": [
      "Epoch 1/500\n",
      "62/62 [==============================] - 27s 367ms/step - loss: 1.2838 - accuracy: 0.3643 - val_loss: 1.1776 - val_accuracy: 0.4745\n",
      "Epoch 2/500\n",
      "62/62 [==============================] - 20s 315ms/step - loss: 1.0761 - accuracy: 0.4926 - val_loss: 1.2410 - val_accuracy: 0.4398\n",
      "Epoch 3/500\n",
      "62/62 [==============================] - 18s 296ms/step - loss: 1.0390 - accuracy: 0.5102 - val_loss: 1.0869 - val_accuracy: 0.4714\n",
      "Epoch 4/500\n",
      "62/62 [==============================] - 20s 322ms/step - loss: 0.9685 - accuracy: 0.5653 - val_loss: 1.1341 - val_accuracy: 0.5041\n",
      "Epoch 5/500\n",
      "62/62 [==============================] - 22s 355ms/step - loss: 0.9606 - accuracy: 0.5719 - val_loss: 1.3963 - val_accuracy: 0.4143\n",
      "Epoch 6/500\n",
      " 5/62 [=>............................] - ETA: 16s - loss: 1.0170 - accuracy: 0.5281"
     ]
    },
    {
     "ename": "KeyboardInterrupt",
     "evalue": "",
     "output_type": "error",
     "traceback": [
      "\u001b[1;31m---------------------------------------------------------------------------\u001b[0m",
      "\u001b[1;31mKeyboardInterrupt\u001b[0m                         Traceback (most recent call last)",
      "\u001b[1;32m~\\AppData\\Local\\Temp\\ipykernel_17684\\129553158.py\u001b[0m in \u001b[0;36m<module>\u001b[1;34m\u001b[0m\n\u001b[0;32m     16\u001b[0m \u001b[0mlr_scheduler_callback\u001b[0m \u001b[1;33m=\u001b[0m \u001b[0mLearningRateScheduler\u001b[0m\u001b[1;33m(\u001b[0m\u001b[0mscheduler\u001b[0m\u001b[1;33m)\u001b[0m\u001b[1;33m\u001b[0m\u001b[1;33m\u001b[0m\u001b[0m\n\u001b[0;32m     17\u001b[0m \u001b[1;33m\u001b[0m\u001b[0m\n\u001b[1;32m---> 18\u001b[1;33m \u001b[0mhistory\u001b[0m \u001b[1;33m=\u001b[0m \u001b[0mmodel\u001b[0m\u001b[1;33m.\u001b[0m\u001b[0mfit\u001b[0m\u001b[1;33m(\u001b[0m\u001b[0mX\u001b[0m\u001b[1;33m,\u001b[0m \u001b[0my\u001b[0m\u001b[1;33m,\u001b[0m \u001b[0mvalidation_split\u001b[0m\u001b[1;33m=\u001b[0m\u001b[1;36m0.2\u001b[0m\u001b[1;33m,\u001b[0m \u001b[0mepochs\u001b[0m\u001b[1;33m=\u001b[0m\u001b[1;36m500\u001b[0m\u001b[1;33m,\u001b[0m \u001b[0mbatch_size\u001b[0m\u001b[1;33m=\u001b[0m\u001b[1;36m64\u001b[0m\u001b[1;33m)\u001b[0m\u001b[1;33m\u001b[0m\u001b[1;33m\u001b[0m\u001b[0m\n\u001b[0m",
      "\u001b[1;32mc:\\Users\\Yathu\\AppData\\Local\\Programs\\Python\\Python37\\lib\\site-packages\\keras\\utils\\traceback_utils.py\u001b[0m in \u001b[0;36merror_handler\u001b[1;34m(*args, **kwargs)\u001b[0m\n\u001b[0;32m     62\u001b[0m     \u001b[0mfiltered_tb\u001b[0m \u001b[1;33m=\u001b[0m \u001b[1;32mNone\u001b[0m\u001b[1;33m\u001b[0m\u001b[1;33m\u001b[0m\u001b[0m\n\u001b[0;32m     63\u001b[0m     \u001b[1;32mtry\u001b[0m\u001b[1;33m:\u001b[0m\u001b[1;33m\u001b[0m\u001b[1;33m\u001b[0m\u001b[0m\n\u001b[1;32m---> 64\u001b[1;33m       \u001b[1;32mreturn\u001b[0m \u001b[0mfn\u001b[0m\u001b[1;33m(\u001b[0m\u001b[1;33m*\u001b[0m\u001b[0margs\u001b[0m\u001b[1;33m,\u001b[0m \u001b[1;33m**\u001b[0m\u001b[0mkwargs\u001b[0m\u001b[1;33m)\u001b[0m\u001b[1;33m\u001b[0m\u001b[1;33m\u001b[0m\u001b[0m\n\u001b[0m\u001b[0;32m     65\u001b[0m     \u001b[1;32mexcept\u001b[0m \u001b[0mException\u001b[0m \u001b[1;32mas\u001b[0m \u001b[0me\u001b[0m\u001b[1;33m:\u001b[0m  \u001b[1;31m# pylint: disable=broad-except\u001b[0m\u001b[1;33m\u001b[0m\u001b[1;33m\u001b[0m\u001b[0m\n\u001b[0;32m     66\u001b[0m       \u001b[0mfiltered_tb\u001b[0m \u001b[1;33m=\u001b[0m \u001b[0m_process_traceback_frames\u001b[0m\u001b[1;33m(\u001b[0m\u001b[0me\u001b[0m\u001b[1;33m.\u001b[0m\u001b[0m__traceback__\u001b[0m\u001b[1;33m)\u001b[0m\u001b[1;33m\u001b[0m\u001b[1;33m\u001b[0m\u001b[0m\n",
      "\u001b[1;32mc:\\Users\\Yathu\\AppData\\Local\\Programs\\Python\\Python37\\lib\\site-packages\\keras\\engine\\training.py\u001b[0m in \u001b[0;36mfit\u001b[1;34m(self, x, y, batch_size, epochs, verbose, callbacks, validation_split, validation_data, shuffle, class_weight, sample_weight, initial_epoch, steps_per_epoch, validation_steps, validation_batch_size, validation_freq, max_queue_size, workers, use_multiprocessing)\u001b[0m\n\u001b[0;32m   1407\u001b[0m                 _r=1):\n\u001b[0;32m   1408\u001b[0m               \u001b[0mcallbacks\u001b[0m\u001b[1;33m.\u001b[0m\u001b[0mon_train_batch_begin\u001b[0m\u001b[1;33m(\u001b[0m\u001b[0mstep\u001b[0m\u001b[1;33m)\u001b[0m\u001b[1;33m\u001b[0m\u001b[1;33m\u001b[0m\u001b[0m\n\u001b[1;32m-> 1409\u001b[1;33m               \u001b[0mtmp_logs\u001b[0m \u001b[1;33m=\u001b[0m \u001b[0mself\u001b[0m\u001b[1;33m.\u001b[0m\u001b[0mtrain_function\u001b[0m\u001b[1;33m(\u001b[0m\u001b[0miterator\u001b[0m\u001b[1;33m)\u001b[0m\u001b[1;33m\u001b[0m\u001b[1;33m\u001b[0m\u001b[0m\n\u001b[0m\u001b[0;32m   1410\u001b[0m               \u001b[1;32mif\u001b[0m \u001b[0mdata_handler\u001b[0m\u001b[1;33m.\u001b[0m\u001b[0mshould_sync\u001b[0m\u001b[1;33m:\u001b[0m\u001b[1;33m\u001b[0m\u001b[1;33m\u001b[0m\u001b[0m\n\u001b[0;32m   1411\u001b[0m                 \u001b[0mcontext\u001b[0m\u001b[1;33m.\u001b[0m\u001b[0masync_wait\u001b[0m\u001b[1;33m(\u001b[0m\u001b[1;33m)\u001b[0m\u001b[1;33m\u001b[0m\u001b[1;33m\u001b[0m\u001b[0m\n",
      "\u001b[1;32mc:\\Users\\Yathu\\AppData\\Local\\Programs\\Python\\Python37\\lib\\site-packages\\tensorflow\\python\\util\\traceback_utils.py\u001b[0m in \u001b[0;36merror_handler\u001b[1;34m(*args, **kwargs)\u001b[0m\n\u001b[0;32m    148\u001b[0m     \u001b[0mfiltered_tb\u001b[0m \u001b[1;33m=\u001b[0m \u001b[1;32mNone\u001b[0m\u001b[1;33m\u001b[0m\u001b[1;33m\u001b[0m\u001b[0m\n\u001b[0;32m    149\u001b[0m     \u001b[1;32mtry\u001b[0m\u001b[1;33m:\u001b[0m\u001b[1;33m\u001b[0m\u001b[1;33m\u001b[0m\u001b[0m\n\u001b[1;32m--> 150\u001b[1;33m       \u001b[1;32mreturn\u001b[0m \u001b[0mfn\u001b[0m\u001b[1;33m(\u001b[0m\u001b[1;33m*\u001b[0m\u001b[0margs\u001b[0m\u001b[1;33m,\u001b[0m \u001b[1;33m**\u001b[0m\u001b[0mkwargs\u001b[0m\u001b[1;33m)\u001b[0m\u001b[1;33m\u001b[0m\u001b[1;33m\u001b[0m\u001b[0m\n\u001b[0m\u001b[0;32m    151\u001b[0m     \u001b[1;32mexcept\u001b[0m \u001b[0mException\u001b[0m \u001b[1;32mas\u001b[0m \u001b[0me\u001b[0m\u001b[1;33m:\u001b[0m\u001b[1;33m\u001b[0m\u001b[1;33m\u001b[0m\u001b[0m\n\u001b[0;32m    152\u001b[0m       \u001b[0mfiltered_tb\u001b[0m \u001b[1;33m=\u001b[0m \u001b[0m_process_traceback_frames\u001b[0m\u001b[1;33m(\u001b[0m\u001b[0me\u001b[0m\u001b[1;33m.\u001b[0m\u001b[0m__traceback__\u001b[0m\u001b[1;33m)\u001b[0m\u001b[1;33m\u001b[0m\u001b[1;33m\u001b[0m\u001b[0m\n",
      "\u001b[1;32mc:\\Users\\Yathu\\AppData\\Local\\Programs\\Python\\Python37\\lib\\site-packages\\tensorflow\\python\\eager\\def_function.py\u001b[0m in \u001b[0;36m__call__\u001b[1;34m(self, *args, **kwds)\u001b[0m\n\u001b[0;32m    913\u001b[0m \u001b[1;33m\u001b[0m\u001b[0m\n\u001b[0;32m    914\u001b[0m       \u001b[1;32mwith\u001b[0m \u001b[0mOptionalXlaContext\u001b[0m\u001b[1;33m(\u001b[0m\u001b[0mself\u001b[0m\u001b[1;33m.\u001b[0m\u001b[0m_jit_compile\u001b[0m\u001b[1;33m)\u001b[0m\u001b[1;33m:\u001b[0m\u001b[1;33m\u001b[0m\u001b[1;33m\u001b[0m\u001b[0m\n\u001b[1;32m--> 915\u001b[1;33m         \u001b[0mresult\u001b[0m \u001b[1;33m=\u001b[0m \u001b[0mself\u001b[0m\u001b[1;33m.\u001b[0m\u001b[0m_call\u001b[0m\u001b[1;33m(\u001b[0m\u001b[1;33m*\u001b[0m\u001b[0margs\u001b[0m\u001b[1;33m,\u001b[0m \u001b[1;33m**\u001b[0m\u001b[0mkwds\u001b[0m\u001b[1;33m)\u001b[0m\u001b[1;33m\u001b[0m\u001b[1;33m\u001b[0m\u001b[0m\n\u001b[0m\u001b[0;32m    916\u001b[0m \u001b[1;33m\u001b[0m\u001b[0m\n\u001b[0;32m    917\u001b[0m       \u001b[0mnew_tracing_count\u001b[0m \u001b[1;33m=\u001b[0m \u001b[0mself\u001b[0m\u001b[1;33m.\u001b[0m\u001b[0mexperimental_get_tracing_count\u001b[0m\u001b[1;33m(\u001b[0m\u001b[1;33m)\u001b[0m\u001b[1;33m\u001b[0m\u001b[1;33m\u001b[0m\u001b[0m\n",
      "\u001b[1;32mc:\\Users\\Yathu\\AppData\\Local\\Programs\\Python\\Python37\\lib\\site-packages\\tensorflow\\python\\eager\\def_function.py\u001b[0m in \u001b[0;36m_call\u001b[1;34m(self, *args, **kwds)\u001b[0m\n\u001b[0;32m    945\u001b[0m       \u001b[1;31m# In this case we have created variables on the first call, so we run the\u001b[0m\u001b[1;33m\u001b[0m\u001b[1;33m\u001b[0m\u001b[1;33m\u001b[0m\u001b[0m\n\u001b[0;32m    946\u001b[0m       \u001b[1;31m# defunned version which is guaranteed to never create variables.\u001b[0m\u001b[1;33m\u001b[0m\u001b[1;33m\u001b[0m\u001b[1;33m\u001b[0m\u001b[0m\n\u001b[1;32m--> 947\u001b[1;33m       \u001b[1;32mreturn\u001b[0m \u001b[0mself\u001b[0m\u001b[1;33m.\u001b[0m\u001b[0m_stateless_fn\u001b[0m\u001b[1;33m(\u001b[0m\u001b[1;33m*\u001b[0m\u001b[0margs\u001b[0m\u001b[1;33m,\u001b[0m \u001b[1;33m**\u001b[0m\u001b[0mkwds\u001b[0m\u001b[1;33m)\u001b[0m  \u001b[1;31m# pylint: disable=not-callable\u001b[0m\u001b[1;33m\u001b[0m\u001b[1;33m\u001b[0m\u001b[0m\n\u001b[0m\u001b[0;32m    948\u001b[0m     \u001b[1;32melif\u001b[0m \u001b[0mself\u001b[0m\u001b[1;33m.\u001b[0m\u001b[0m_stateful_fn\u001b[0m \u001b[1;32mis\u001b[0m \u001b[1;32mnot\u001b[0m \u001b[1;32mNone\u001b[0m\u001b[1;33m:\u001b[0m\u001b[1;33m\u001b[0m\u001b[1;33m\u001b[0m\u001b[0m\n\u001b[0;32m    949\u001b[0m       \u001b[1;31m# Release the lock early so that multiple threads can perform the call\u001b[0m\u001b[1;33m\u001b[0m\u001b[1;33m\u001b[0m\u001b[1;33m\u001b[0m\u001b[0m\n",
      "\u001b[1;32mc:\\Users\\Yathu\\AppData\\Local\\Programs\\Python\\Python37\\lib\\site-packages\\tensorflow\\python\\eager\\function.py\u001b[0m in \u001b[0;36m__call__\u001b[1;34m(self, *args, **kwargs)\u001b[0m\n\u001b[0;32m   2452\u001b[0m        filtered_flat_args) = self._maybe_define_function(args, kwargs)\n\u001b[0;32m   2453\u001b[0m     return graph_function._call_flat(\n\u001b[1;32m-> 2454\u001b[1;33m         filtered_flat_args, captured_inputs=graph_function.captured_inputs)  # pylint: disable=protected-access\n\u001b[0m\u001b[0;32m   2455\u001b[0m \u001b[1;33m\u001b[0m\u001b[0m\n\u001b[0;32m   2456\u001b[0m   \u001b[1;33m@\u001b[0m\u001b[0mproperty\u001b[0m\u001b[1;33m\u001b[0m\u001b[1;33m\u001b[0m\u001b[0m\n",
      "\u001b[1;32mc:\\Users\\Yathu\\AppData\\Local\\Programs\\Python\\Python37\\lib\\site-packages\\tensorflow\\python\\eager\\function.py\u001b[0m in \u001b[0;36m_call_flat\u001b[1;34m(self, args, captured_inputs, cancellation_manager)\u001b[0m\n\u001b[0;32m   1859\u001b[0m       \u001b[1;31m# No tape is watching; skip to running the function.\u001b[0m\u001b[1;33m\u001b[0m\u001b[1;33m\u001b[0m\u001b[1;33m\u001b[0m\u001b[0m\n\u001b[0;32m   1860\u001b[0m       return self._build_call_outputs(self._inference_function.call(\n\u001b[1;32m-> 1861\u001b[1;33m           ctx, args, cancellation_manager=cancellation_manager))\n\u001b[0m\u001b[0;32m   1862\u001b[0m     forward_backward = self._select_forward_and_backward_functions(\n\u001b[0;32m   1863\u001b[0m         \u001b[0margs\u001b[0m\u001b[1;33m,\u001b[0m\u001b[1;33m\u001b[0m\u001b[1;33m\u001b[0m\u001b[0m\n",
      "\u001b[1;32mc:\\Users\\Yathu\\AppData\\Local\\Programs\\Python\\Python37\\lib\\site-packages\\tensorflow\\python\\eager\\function.py\u001b[0m in \u001b[0;36mcall\u001b[1;34m(self, ctx, args, cancellation_manager)\u001b[0m\n\u001b[0;32m    500\u001b[0m               \u001b[0minputs\u001b[0m\u001b[1;33m=\u001b[0m\u001b[0margs\u001b[0m\u001b[1;33m,\u001b[0m\u001b[1;33m\u001b[0m\u001b[1;33m\u001b[0m\u001b[0m\n\u001b[0;32m    501\u001b[0m               \u001b[0mattrs\u001b[0m\u001b[1;33m=\u001b[0m\u001b[0mattrs\u001b[0m\u001b[1;33m,\u001b[0m\u001b[1;33m\u001b[0m\u001b[1;33m\u001b[0m\u001b[0m\n\u001b[1;32m--> 502\u001b[1;33m               ctx=ctx)\n\u001b[0m\u001b[0;32m    503\u001b[0m         \u001b[1;32melse\u001b[0m\u001b[1;33m:\u001b[0m\u001b[1;33m\u001b[0m\u001b[1;33m\u001b[0m\u001b[0m\n\u001b[0;32m    504\u001b[0m           outputs = execute.execute_with_cancellation(\n",
      "\u001b[1;32mc:\\Users\\Yathu\\AppData\\Local\\Programs\\Python\\Python37\\lib\\site-packages\\tensorflow\\python\\eager\\execute.py\u001b[0m in \u001b[0;36mquick_execute\u001b[1;34m(op_name, num_outputs, inputs, attrs, ctx, name)\u001b[0m\n\u001b[0;32m     53\u001b[0m     \u001b[0mctx\u001b[0m\u001b[1;33m.\u001b[0m\u001b[0mensure_initialized\u001b[0m\u001b[1;33m(\u001b[0m\u001b[1;33m)\u001b[0m\u001b[1;33m\u001b[0m\u001b[1;33m\u001b[0m\u001b[0m\n\u001b[0;32m     54\u001b[0m     tensors = pywrap_tfe.TFE_Py_Execute(ctx._handle, device_name, op_name,\n\u001b[1;32m---> 55\u001b[1;33m                                         inputs, attrs, num_outputs)\n\u001b[0m\u001b[0;32m     56\u001b[0m   \u001b[1;32mexcept\u001b[0m \u001b[0mcore\u001b[0m\u001b[1;33m.\u001b[0m\u001b[0m_NotOkStatusException\u001b[0m \u001b[1;32mas\u001b[0m \u001b[0me\u001b[0m\u001b[1;33m:\u001b[0m\u001b[1;33m\u001b[0m\u001b[1;33m\u001b[0m\u001b[0m\n\u001b[0;32m     57\u001b[0m     \u001b[1;32mif\u001b[0m \u001b[0mname\u001b[0m \u001b[1;32mis\u001b[0m \u001b[1;32mnot\u001b[0m \u001b[1;32mNone\u001b[0m\u001b[1;33m:\u001b[0m\u001b[1;33m\u001b[0m\u001b[1;33m\u001b[0m\u001b[0m\n",
      "\u001b[1;31mKeyboardInterrupt\u001b[0m: "
     ]
    }
   ],
   "source": [
    "checkpoint_filepath = 'best_model.keras'\n",
    "model_checkpoint_callback = ModelCheckpoint(\n",
    "    filepath=checkpoint_filepath,\n",
    "    save_best_only=True,\n",
    "    monitor='val_accuracy',\n",
    "    mode='max',\n",
    "    verbose=1)\n",
    "\n",
    "\n",
    "def scheduler(epoch, lr):\n",
    "    if epoch < 10:\n",
    "        return lr\n",
    "    else:\n",
    "        return lr * tf.math.exp(-0.1)\n",
    "\n",
    "lr_scheduler_callback = LearningRateScheduler(scheduler)\n",
    "\n",
    "history = model.fit(X, y, validation_split=0.2, epochs=500, batch_size=64)"
   ]
  },
  {
   "cell_type": "code",
   "execution_count": 73,
   "id": "669eef02",
   "metadata": {},
   "outputs": [
    {
     "name": "stdout",
     "output_type": "stream",
     "text": [
      "Model saved as 'speech_emotion_model.h5'\n"
     ]
    }
   ],
   "source": [
    "model.save('speech_emotion_model.h5')\n",
    "print(\"Model saved as 'speech_emotion_model.h5'\")"
   ]
  },
  {
   "cell_type": "code",
   "execution_count": 74,
   "id": "d0fe5d43",
   "metadata": {
    "execution": {
     "iopub.execute_input": "2024-05-20T08:34:48.217143Z",
     "iopub.status.busy": "2024-05-20T08:34:48.216000Z",
     "iopub.status.idle": "2024-05-20T08:34:48.641114Z",
     "shell.execute_reply": "2024-05-20T08:34:48.640226Z"
    },
    "papermill": {
     "duration": 1.152547,
     "end_time": "2024-05-20T08:34:48.644581",
     "exception": false,
     "start_time": "2024-05-20T08:34:47.492034",
     "status": "completed"
    },
    "tags": []
   },
   "outputs": [
    {
     "data": {
      "image/png": "[encoded data removed]",
      "text/plain": [
       "<Figure size 2400x800 with 1 Axes>"
      ]
     },
     "metadata": {},
     "output_type": "display_data"
    }
   ],
   "source": [
    "epochs = list(range(500))\n",
    "acc = history.history['accuracy']\n",
    "\n",
    "plt.figure(figsize=(12, 4), dpi=200)\n",
    "plt.plot(epochs, acc, label='train accuracy', color='#2E40CB')\n",
    "plt.xlabel('epochs', fontdict= font2)\n",
    "plt.ylabel('accuracy', fontdict= font2)\n",
    "plt.title('Acc', fontdict= font2)\n",
    "plt.legend()\n",
    "plt.show()"
   ]
  },
  {
   "cell_type": "code",
   "execution_count": 75,
   "id": "8b7e9c60",
   "metadata": {
    "execution": {
     "iopub.execute_input": "2024-05-20T08:34:50.062238Z",
     "iopub.status.busy": "2024-05-20T08:34:50.061638Z",
     "iopub.status.idle": "2024-05-20T08:34:50.568042Z",
     "shell.execute_reply": "2024-05-20T08:34:50.567016Z"
    },
    "papermill": {
     "duration": 1.254889,
     "end_time": "2024-05-20T08:34:50.571390",
     "exception": false,
     "start_time": "2024-05-20T08:34:49.316501",
     "status": "completed"
    },
    "tags": []
   },
   "outputs": [
    {
     "data": {
      "image/png": "[encoded data removed]",
      "text/plain": [
       "<Figure size 2400x800 with 1 Axes>"
      ]
     },
     "metadata": {},
     "output_type": "display_data"
    }
   ],
   "source": [
    "loss = history.history['loss']\n",
    "\n",
    "plt.figure(figsize=(12, 4), dpi=200)\n",
    "plt.plot(epochs, loss, label='train loss', color='#2E40CB')\n",
    "plt.xlabel('epochs', fontdict= font2)\n",
    "plt.ylabel('loss', fontdict= font2)\n",
    "plt.title('Loss', fontdict= font2)\n",
    "plt.show()"
   ]
  }
 ],
 "metadata": {
  "kaggle": {
   "accelerator": "nvidiaTeslaT4",
   "dataSources": [
    {
     "datasetId": 1118008,
     "sourceId": 1877714,
     "sourceType": "datasetVersion"
    }
   ],
   "dockerImageVersionId": 30698,
   "isGpuEnabled": true,
   "isInternetEnabled": true,
   "language": "python",
   "sourceType": "notebook"
  },
  "kernelspec": {
   "display_name": "Python 3",
   "language": "python",
   "name": "python3"
  },
  "language_info": {
   "codemirror_mode": {
    "name": "ipython",
    "version": 3
   },
   "file_extension": ".py",
   "mimetype": "text/x-python",
   "name": "python",
   "nbconvert_exporter": "python",
   "pygments_lexer": "ipython3",
   "version": "3.12.2"
  },
  "papermill": {
   "default_parameters": {},
   "duration": 717.642791,
   "end_time": "2024-05-20T08:34:57.551450",
   "environment_variables": {},
   "exception": null,
   "input_path": "__notebook__.ipynb",
   "output_path": "__notebook__.ipynb",
   "parameters": {},
   "start_time": "2024-05-20T08:22:59.908659",
   "version": "2.5.0"
  }
 },
 "nbformat": 4,
 "nbformat_minor": 5
}
